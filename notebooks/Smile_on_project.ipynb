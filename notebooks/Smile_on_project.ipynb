{
 "cells": [
  {
   "cell_type": "code",
   "execution_count": 1,
   "metadata": {},
   "outputs": [],
   "source": [
    "import pandas as pd\n",
    "from matplotlib import pyplot as plt\n",
    "import seaborn as sns\n",
    "import numpy as np\n",
    "import re\n",
    "import datetime as dt"
   ]
  },
  {
   "cell_type": "code",
   "execution_count": 3,
   "metadata": {},
   "outputs": [],
   "source": [
    "smile_on = pd.read_csv('../data/SmileOn11.28.2020.csv', sep = ',', encoding='gbk', skiprows = 2)\n",
    "data_dict = pd.read_excel('../data/Data_Dictionary.xlsx')\n",
    "city_info = pd.read_csv('../data2/500_Cities__Local_Data_for_Better_Health__2019_release.csv')\n",
    "\n",
    "#unused CMS data sets\n",
    "bill = pd.read_csv('../data2/Medicare_Provider_Utilization_and_Payment_Data__Physician_and_Other_Supplier_PUF_CY2017 (1).csv')\n",
    "prov_out = pd.read_csv('../data2/Provider_Outpatient_Hospital_Charge_Data_by_APC__CY2017.csv')\n",
    "apc = pd.read_excel('../data2/2020_October_Web_Addendum_B.10212020.xlsx', skiprows = 2)\n",
    "hcpcs = pd.read_excel('../data2/2020_October_Web_Addendum_A.10212020.xlsx', skiprows = 1)"
   ]
  },
  {
   "cell_type": "markdown",
   "metadata": {},
   "source": [
    "## CDC Tooth Loss Data - 500 Cities Project"
   ]
  },
  {
   "cell_type": "code",
   "execution_count": 4,
   "metadata": {},
   "outputs": [],
   "source": [
    "#Filtering down to TN, measure - all teeth lost among adults >=65 years old, city level data, and age-adjusted prevelance of tooth loss\n",
    "city_info_tn = city_info[city_info['StateAbbr'] == 'TN']\n",
    "city_info_tn_teeth_loss = city_info_tn[(city_info_tn['Measure'] == 'All teeth lost among adults aged >=65 Years') & (city_info_tn['GeographicLevel'] == 'City') & (city_info_tn['DataValueTypeID'] == 'AgeAdjPrv')]"
   ]
  },
  {
   "cell_type": "code",
   "execution_count": 5,
   "metadata": {},
   "outputs": [],
   "source": [
    "#\n",
    "tooth_loss_chart = city_info_tn_teeth_loss.iloc[:, 0:18].sort_values(by='CityName')\n",
    "tooth_loss_chart = tooth_loss_chart.sort_values(by='Data_Value', ascending = False)"
   ]
  },
  {
   "cell_type": "code",
   "execution_count": 6,
   "metadata": {},
   "outputs": [
    {
     "data": {
      "image/png": "[encoded data removed]",
      "text/plain": [
       "<Figure size 720x432 with 1 Axes>"
      ]
     },
     "metadata": {},
     "output_type": "display_data"
    }
   ],
   "source": [
    "#Chart of major cities in TN - percentage of adults over 65 with all teeth loss\n",
    "sns.set(style=\"whitegrid\")\n",
    "f, ax = plt.subplots(figsize=((10, 6)))\n",
    "sns.barplot(y=\"CityName\", x=\"Data_Value\", data=tooth_loss_chart,\n",
    "            label=\"Total\", color='#4179AB') #47709D\n",
    "#ax.set_title('Percentage of Adults > 65 Years Old with Complete Tooth Loss', fontsize = 20)\n",
    "ax.set_xlabel('Percentage', fontsize = 14, fontfamily = 'Arial')\n",
    "ax.set_xticklabels([0, 5, 10, 15, 20], fontsize = 14, fontfamily = 'Arial')\n",
    "ax.set_ylabel('', fontsize=14)\n",
    "ax.set_yticklabels(tooth_loss_chart['CityName'], fontsize = 14, fontfamily='Arial');"
   ]
  },
  {
   "cell_type": "markdown",
   "metadata": {},
   "source": [
    "## Smile On Data"
   ]
  },
  {
   "cell_type": "code",
   "execution_count": 7,
   "metadata": {},
   "outputs": [
    {
     "data": {
      "text/plain": [
       "(40032, 184)"
      ]
     },
     "execution_count": 7,
     "metadata": {},
     "output_type": "execute_result"
    }
   ],
   "source": [
    "smile_on.shape"
   ]
  },
  {
   "cell_type": "code",
   "execution_count": 8,
   "metadata": {},
   "outputs": [],
   "source": [
    "#subset on specific columns\n",
    "so_1 = smile_on[['CallReportNum', 'ReportVersion', 'CallerNum', 'CityName', 'CountyName', 'PostalCode', 'EnteredOn', 'Birth Year', 'SMILE ON 60+ Screening - Last Screening Date', 'SMILE ON 60+ Oral Care Encounter - What care was provided to the enrollee? (Select all that apply)', 'SMILE ON 60+ Site Information - Enroller ID', 'SMILE ON 60+ Site Information - Enroller Location', 'SMILE ON 60+ Treatment Plan - Is the treatment plan completed?', 'SMILE ON 60+ Treatment Plan - Was a treatment plan developed?', 'SMILE ON 60+ Treatment Plan - Was the enrollee able to be restored to function (can chew) and \"social six\" esthetics (top front six teeth are present and disease free)', 'SMILE ON 60+ Verification of Eligibility - Transportation Arranged', 'SMILE ON 60+ Verification of Eligibility - Verification of Eligibility']]"
   ]
  },
  {
   "cell_type": "code",
   "execution_count": 9,
   "metadata": {},
   "outputs": [
    {
     "name": "stdout",
     "output_type": "stream",
     "text": [
      "<class 'pandas.core.frame.DataFrame'>\n",
      "RangeIndex: 40032 entries, 0 to 40031\n",
      "Data columns (total 17 columns):\n",
      " #   Column                                                                                                                                                                   Non-Null Count  Dtype  \n",
      "---  ------                                                                                                                                                                   --------------  -----  \n",
      " 0   CallReportNum                                                                                                                                                            40032 non-null  int64  \n",
      " 1   ReportVersion                                                                                                                                                            40032 non-null  object \n",
      " 2   CallerNum                                                                                                                                                                40032 non-null  int64  \n",
      " 3   CityName                                                                                                                                                                 39404 non-null  object \n",
      " 4   CountyName                                                                                                                                                               39685 non-null  object \n",
      " 5   PostalCode                                                                                                                                                               37392 non-null  float64\n",
      " 6   EnteredOn                                                                                                                                                                40032 non-null  object \n",
      " 7   Birth Year                                                                                                                                                               40032 non-null  object \n",
      " 8   SMILE ON 60+ Screening - Last Screening Date                                                                                                                             14892 non-null  object \n",
      " 9   SMILE ON 60+ Oral Care Encounter - What care was provided to the enrollee? (Select all that apply)                                                                       24849 non-null  object \n",
      " 10  SMILE ON 60+ Site Information - Enroller ID                                                                                                                              32801 non-null  object \n",
      " 11  SMILE ON 60+ Site Information - Enroller Location                                                                                                                        27683 non-null  object \n",
      " 12  SMILE ON 60+ Treatment Plan - Is the treatment plan completed?                                                                                                           17535 non-null  object \n",
      " 13  SMILE ON 60+ Treatment Plan - Was a treatment plan developed?                                                                                                            17028 non-null  object \n",
      " 14  SMILE ON 60+ Treatment Plan - Was the enrollee able to be restored to function (can chew) and \"social six\" esthetics (top front six teeth are present and disease free)  14276 non-null  object \n",
      " 15  SMILE ON 60+ Verification of Eligibility - Transportation Arranged                                                                                                       5825 non-null   object \n",
      " 16  SMILE ON 60+ Verification of Eligibility - Verification of Eligibility                                                                                                   8718 non-null   object \n",
      "dtypes: float64(1), int64(2), object(14)\n",
      "memory usage: 5.2+ MB\n"
     ]
    }
   ],
   "source": [
    "so_1.info()"
   ]
  },
  {
   "cell_type": "code",
   "execution_count": 10,
   "metadata": {},
   "outputs": [],
   "source": [
    "so_1 = so_1.sort_values(by='CallerNum')"
   ]
  },
  {
   "cell_type": "code",
   "execution_count": 11,
   "metadata": {},
   "outputs": [],
   "source": [
    "#dropped -1 and -2 CallerNums (not unique patients)\n",
    "so_1 = so_1[(so_1['CallerNum'] != -1) & (so_1['CallerNum'] != -2)]"
   ]
  },
  {
   "cell_type": "code",
   "execution_count": 12,
   "metadata": {},
   "outputs": [
    {
     "data": {
      "text/plain": [
       "Index(['CallReportNum', 'ReportVersion', 'CallerNum', 'CityName', 'CountyName',\n",
       "       'PostalCode', 'EnteredOn', 'Birth Year',\n",
       "       'Screening - Last Screening Date',\n",
       "       'Oral Care Encounter - What care was provided to the enrollee?',\n",
       "       'Site Information - Enroller ID',\n",
       "       'Site Information - Enroller Location',\n",
       "       'Treatment Plan - Is the treatment plan completed?',\n",
       "       'Treatment Plan - Was a treatment plan developed?',\n",
       "       'Treatment Plan - Was the enrollee able to be restored to function',\n",
       "       'Verification of Eligibility Transportation Arranged',\n",
       "       'Verification of Eligibility'],\n",
       "      dtype='object')"
      ]
     },
     "execution_count": 12,
     "metadata": {},
     "output_type": "execute_result"
    }
   ],
   "source": [
    "#rename columns\n",
    "so_1.columns=['CallReportNum', 'ReportVersion', 'CallerNum', 'CityName', 'CountyName',\n",
    "       'PostalCode', 'EnteredOn', 'Birth Year',\n",
    "       'Screening - Last Screening Date',\n",
    "       'Oral Care Encounter - What care was provided to the enrollee?',\n",
    "       'Site Information - Enroller ID',\n",
    "       'Site Information - Enroller Location',\n",
    "       'Treatment Plan - Is the treatment plan completed?',\n",
    "       'Treatment Plan - Was a treatment plan developed?',\n",
    "       'Treatment Plan - Was the enrollee able to be restored to function',\n",
    "       'Verification of Eligibility Transportation Arranged',\n",
    "       'Verification of Eligibility']\n",
    "so_1.columns"
   ]
  },
  {
   "cell_type": "code",
   "execution_count": 13,
   "metadata": {},
   "outputs": [],
   "source": [
    "#focused on patients with responses to treatment plan question\n",
    "patients_restored = so_1[so_1['Treatment Plan - Was the enrollee able to be restored to function'].isin(['Yes', 'No'])]"
   ]
  },
  {
   "cell_type": "code",
   "execution_count": 14,
   "metadata": {},
   "outputs": [
    {
     "data": {
      "text/plain": [
       "(4575, 17)"
      ]
     },
     "execution_count": 14,
     "metadata": {},
     "output_type": "execute_result"
    }
   ],
   "source": [
    "#removed duplicate records on CallerNum - kept most recent encounter\n",
    "patients_restored = patients_restored.sort_values(by = 'EnteredOn')\n",
    "patients_restored = patients_restored.drop_duplicates(['CallerNum'], keep='last')\n",
    "patients_restored.shape"
   ]
  },
  {
   "cell_type": "code",
   "execution_count": 15,
   "metadata": {},
   "outputs": [
    {
     "data": {
      "text/plain": [
       "Yes    2488\n",
       "No     2087\n",
       "Name: Treatment Plan - Was the enrollee able to be restored to function, dtype: int64"
      ]
     },
     "execution_count": 15,
     "metadata": {},
     "output_type": "execute_result"
    }
   ],
   "source": [
    "patients_restored['Treatment Plan - Was the enrollee able to be restored to function'].value_counts()"
   ]
  },
  {
   "cell_type": "code",
   "execution_count": 16,
   "metadata": {},
   "outputs": [],
   "source": [
    "#subsetted on yes and no\n",
    "patients_restored_yes = patients_restored[patients_restored['Treatment Plan - Was the enrollee able to be restored to function'] == 'Yes']\n",
    "patients_restored_no = patients_restored[patients_restored['Treatment Plan - Was the enrollee able to be restored to function'] == 'No']"
   ]
  },
  {
   "cell_type": "code",
   "execution_count": 17,
   "metadata": {},
   "outputs": [],
   "source": [
    "#created new data frames\n",
    "yes = patients_restored_yes['Site Information - Enroller ID'].value_counts().to_frame().reset_index()\n",
    "no = patients_restored_no['Site Information - Enroller ID'].value_counts().to_frame().reset_index()"
   ]
  },
  {
   "cell_type": "code",
   "execution_count": 18,
   "metadata": {},
   "outputs": [],
   "source": [
    "#merged the data frames\n",
    "combo = pd.merge(yes, no, on = 'index')"
   ]
  },
  {
   "cell_type": "code",
   "execution_count": 19,
   "metadata": {},
   "outputs": [],
   "source": [
    "#created a 'total' column - added yeses and nos\n",
    "combo['total'] = combo['Site Information - Enroller ID_x'] + combo['Site Information - Enroller ID_y']"
   ]
  },
  {
   "cell_type": "code",
   "execution_count": 20,
   "metadata": {},
   "outputs": [],
   "source": [
    "#created a percentage column - yes/total\n",
    "combo['percentage'] = (combo['Site Information - Enroller ID_x']/combo['total'])*100"
   ]
  },
  {
   "cell_type": "code",
   "execution_count": 21,
   "metadata": {},
   "outputs": [],
   "source": [
    "#renamed columns\n",
    "combo.columns = ['location', 'restored_yes', 'restored_no', 'total', 'percentage' ]"
   ]
  },
  {
   "cell_type": "code",
   "execution_count": 22,
   "metadata": {},
   "outputs": [],
   "source": [
    "#saved just the first five rows to combo\n",
    "combo = combo.head()"
   ]
  },
  {
   "cell_type": "code",
   "execution_count": 23,
   "metadata": {},
   "outputs": [
    {
     "data": {
      "text/plain": [
       "<BarContainer object of 5 artists>"
      ]
     },
     "execution_count": 23,
     "metadata": {},
     "output_type": "execute_result"
    },
    {
     "data": {
      "image/png": "[encoded data removed]",
      "text/plain": [
       "<Figure size 432x288 with 1 Axes>"
      ]
     },
     "metadata": {},
     "output_type": "display_data"
    }
   ],
   "source": [
    "#created bar chart of percentages of clinics with most yeses. Decided the percentages are misleading\n",
    "plt.barh('location', 'percentage', data = combo)"
   ]
  },
  {
   "cell_type": "code",
   "execution_count": 24,
   "metadata": {},
   "outputs": [
    {
     "name": "stdout",
     "output_type": "stream",
     "text": [
      "Church Health Center\n",
      "Memphis\n"
     ]
    }
   ],
   "source": [
    "#decided we wanted clinic labels to text wrapped\n",
    "print(re.sub(' - ', '\\n', 'Church Health Center - Memphis'))"
   ]
  },
  {
   "cell_type": "code",
   "execution_count": 25,
   "metadata": {},
   "outputs": [],
   "source": [
    "#iterated above code through data frame\n",
    "list = []\n",
    "for index, row in combo.iterrows():\n",
    "    list.append(re.sub(' - ', '\\n', row['location']))"
   ]
  },
  {
   "cell_type": "code",
   "execution_count": 26,
   "metadata": {},
   "outputs": [
    {
     "data": {
      "text/plain": [
       "['Church Health Center\\nMemphis',\n",
       " 'Interfaith Dental Clinic\\nNashville',\n",
       " 'Interfaith Dental Clinic\\nMurfreesboro',\n",
       " 'Healing Hands Health Center\\nBristol',\n",
       " 'Friends in Need Health Center\\nKingsport']"
      ]
     },
     "execution_count": 26,
     "metadata": {},
     "output_type": "execute_result"
    }
   ],
   "source": [
    "list"
   ]
  },
  {
   "cell_type": "code",
   "execution_count": 27,
   "metadata": {},
   "outputs": [],
   "source": [
    "#created new location column in comba data frame\n",
    "combo['new'] = list"
   ]
  },
  {
   "cell_type": "code",
   "execution_count": 28,
   "metadata": {},
   "outputs": [],
   "source": [
    "#sorted data frame so it plotted correctly on chart\n",
    "combo = combo.sort_values(by = 'restored_yes')"
   ]
  },
  {
   "cell_type": "code",
   "execution_count": 29,
   "metadata": {},
   "outputs": [
    {
     "data": {
      "image/png": "[encoded data removed]",
      "text/plain": [
       "<Figure size 720x720 with 1 Axes>"
      ]
     },
     "metadata": {},
     "output_type": "display_data"
    }
   ],
   "source": [
    "# Create a grouped bar chart, with location as the y-axis\n",
    "# and number of patients as the variable we're grouping on so there\n",
    "# are two bars per location.\n",
    "fig, ax = plt.subplots(figsize=((10, 10)))\n",
    "\n",
    "# Our y-axis. We basically just want a list\n",
    "# of numbers from zero with a value for each\n",
    "# of our locations.\n",
    "y = np.arange(len(combo['new'].unique()))\n",
    "\n",
    "# Define bar width. We need this to offset the second bar.\n",
    "width = 0.25\n",
    "\n",
    "b1 = ax.barh(y, combo['restored_no'],\n",
    "            width, label='not restored', color='#EE2737')\n",
    "# Same thing, but offset the y.\n",
    "b2 = ax.barh(y + width, combo['restored_yes'],\n",
    "            width, label='restored', color = '#4179AB')\n",
    "\n",
    "\n",
    "# Fix the y-axes.\n",
    "ax.set_yticks(y + width / 2)\n",
    "ax.set_yticklabels(combo['new'].unique())\n",
    "plt.yticks(fontsize = 16)\n",
    "\n",
    "# Add legend.\n",
    "\n",
    "#change order of items in legend\n",
    "handles, labels = plt.gca().get_legend_handles_labels()\n",
    "order = [1,0]\n",
    "plt.legend([handles[idx] for idx in order],[labels[idx] for idx in order], fontsize = 16)\n",
    "\n",
    "# Axis styling.\n",
    "ax.spines['top'].set_visible(False)\n",
    "ax.spines['right'].set_visible(False)\n",
    "ax.spines['left'].set_visible(False)\n",
    "ax.spines['bottom'].set_color('#DDDDDD')\n",
    "ax.tick_params(bottom=False, left=False)\n",
    "ax.set_axisbelow(True)\n",
    "ax.yaxis.grid(True, color='#EEEEEE')\n",
    "ax.xaxis.grid(True, color='#EEEEEE')\n",
    "\n",
    "# Add axis and chart labels.\n",
    "#ax.set_xlabel('Location', labelpad=15, fontsize=12)\n",
    "ax.set_xlabel('Patients', labelpad=15, fontsize=16, fontfamily = 'Arial')\n",
    "plt.xticks(fontsize=16)\n",
    "#ax.set_title('Clinic Locations with the Most Restored Patients', pad=15)\n",
    "\n",
    "fig.tight_layout()"
   ]
  },
  {
   "cell_type": "markdown",
   "metadata": {},
   "source": [
    "## Unique patients"
   ]
  },
  {
   "cell_type": "code",
   "execution_count": 30,
   "metadata": {},
   "outputs": [],
   "source": [
    "patients = so_1.drop_duplicates(['CallerNum'], keep='first')"
   ]
  },
  {
   "cell_type": "code",
   "execution_count": 31,
   "metadata": {},
   "outputs": [
    {
     "data": {
      "text/plain": [
       "(8706, 17)"
      ]
     },
     "execution_count": 31,
     "metadata": {},
     "output_type": "execute_result"
    }
   ],
   "source": [
    "patients.shape"
   ]
  },
  {
   "cell_type": "code",
   "execution_count": 32,
   "metadata": {},
   "outputs": [],
   "source": [
    "#find number of patients in each city\n",
    "patients_city = patients.groupby('CityName').size()"
   ]
  },
  {
   "cell_type": "code",
   "execution_count": 33,
   "metadata": {},
   "outputs": [],
   "source": [
    "#make new data frame\n",
    "patients_city = patients_city.to_frame().reset_index()"
   ]
  },
  {
   "cell_type": "code",
   "execution_count": 34,
   "metadata": {},
   "outputs": [],
   "source": [
    "#filter to major cities in tooth loss data set\n",
    "patients_city = patients_city[patients_city.CityName.isin(['Murfreesboro', 'Nashville', 'Chattanooga', 'Knoxville', 'Clarksville', 'Memphis'])]"
   ]
  },
  {
   "cell_type": "code",
   "execution_count": 35,
   "metadata": {},
   "outputs": [],
   "source": [
    "#rename columns\n",
    "patients_city.columns = ['City', 'Smile On Patients']"
   ]
  },
  {
   "cell_type": "code",
   "execution_count": 36,
   "metadata": {},
   "outputs": [
    {
     "data": {
      "text/html": [
       "<style  type=\"text/css\" >\n",
       "    #T_7fba90c0_5399_11eb_b3f9_a87eea642a75row0_col0 {\n",
       "            text-align:  center;\n",
       "            colheader_justify:  center;\n",
       "        }    #T_7fba90c0_5399_11eb_b3f9_a87eea642a75row0_col1 {\n",
       "            text-align:  center;\n",
       "            colheader_justify:  center;\n",
       "        }    #T_7fba90c0_5399_11eb_b3f9_a87eea642a75row1_col0 {\n",
       "            text-align:  center;\n",
       "            colheader_justify:  center;\n",
       "        }    #T_7fba90c0_5399_11eb_b3f9_a87eea642a75row1_col1 {\n",
       "            text-align:  center;\n",
       "            colheader_justify:  center;\n",
       "        }    #T_7fba90c0_5399_11eb_b3f9_a87eea642a75row2_col0 {\n",
       "            text-align:  center;\n",
       "            colheader_justify:  center;\n",
       "        }    #T_7fba90c0_5399_11eb_b3f9_a87eea642a75row2_col1 {\n",
       "            text-align:  center;\n",
       "            colheader_justify:  center;\n",
       "        }    #T_7fba90c0_5399_11eb_b3f9_a87eea642a75row3_col0 {\n",
       "            text-align:  center;\n",
       "            colheader_justify:  center;\n",
       "        }    #T_7fba90c0_5399_11eb_b3f9_a87eea642a75row3_col1 {\n",
       "            text-align:  center;\n",
       "            colheader_justify:  center;\n",
       "        }    #T_7fba90c0_5399_11eb_b3f9_a87eea642a75row4_col0 {\n",
       "            text-align:  center;\n",
       "            colheader_justify:  center;\n",
       "        }    #T_7fba90c0_5399_11eb_b3f9_a87eea642a75row4_col1 {\n",
       "            text-align:  center;\n",
       "            colheader_justify:  center;\n",
       "        }    #T_7fba90c0_5399_11eb_b3f9_a87eea642a75row5_col0 {\n",
       "            text-align:  center;\n",
       "            colheader_justify:  center;\n",
       "        }    #T_7fba90c0_5399_11eb_b3f9_a87eea642a75row5_col1 {\n",
       "            text-align:  center;\n",
       "            colheader_justify:  center;\n",
       "        }</style><table id=\"T_7fba90c0_5399_11eb_b3f9_a87eea642a75\" ><thead>    <tr>        <th class=\"blank level0\" ></th>        <th class=\"col_heading level0 col0\" >City</th>        <th class=\"col_heading level0 col1\" >Smile On Patients</th>    </tr></thead><tbody>\n",
       "                <tr>\n",
       "                        <th id=\"T_7fba90c0_5399_11eb_b3f9_a87eea642a75level0_row0\" class=\"row_heading level0 row0\" >239</th>\n",
       "                        <td id=\"T_7fba90c0_5399_11eb_b3f9_a87eea642a75row0_col0\" class=\"data row0 col0\" >Memphis</td>\n",
       "                        <td id=\"T_7fba90c0_5399_11eb_b3f9_a87eea642a75row0_col1\" class=\"data row0 col1\" >1424</td>\n",
       "            </tr>\n",
       "            <tr>\n",
       "                        <th id=\"T_7fba90c0_5399_11eb_b3f9_a87eea642a75level0_row1\" class=\"row_heading level0 row1\" >263</th>\n",
       "                        <td id=\"T_7fba90c0_5399_11eb_b3f9_a87eea642a75row1_col0\" class=\"data row1 col0\" >Nashville</td>\n",
       "                        <td id=\"T_7fba90c0_5399_11eb_b3f9_a87eea642a75row1_col1\" class=\"data row1 col1\" >1142</td>\n",
       "            </tr>\n",
       "            <tr>\n",
       "                        <th id=\"T_7fba90c0_5399_11eb_b3f9_a87eea642a75level0_row2\" class=\"row_heading level0 row2\" >262</th>\n",
       "                        <td id=\"T_7fba90c0_5399_11eb_b3f9_a87eea642a75row2_col0\" class=\"data row2 col0\" >Murfreesboro</td>\n",
       "                        <td id=\"T_7fba90c0_5399_11eb_b3f9_a87eea642a75row2_col1\" class=\"data row2 col1\" >406</td>\n",
       "            </tr>\n",
       "            <tr>\n",
       "                        <th id=\"T_7fba90c0_5399_11eb_b3f9_a87eea642a75level0_row3\" class=\"row_heading level0 row3\" >195</th>\n",
       "                        <td id=\"T_7fba90c0_5399_11eb_b3f9_a87eea642a75row3_col0\" class=\"data row3 col0\" >Knoxville</td>\n",
       "                        <td id=\"T_7fba90c0_5399_11eb_b3f9_a87eea642a75row3_col1\" class=\"data row3 col1\" >386</td>\n",
       "            </tr>\n",
       "            <tr>\n",
       "                        <th id=\"T_7fba90c0_5399_11eb_b3f9_a87eea642a75level0_row4\" class=\"row_heading level0 row4\" >69</th>\n",
       "                        <td id=\"T_7fba90c0_5399_11eb_b3f9_a87eea642a75row4_col0\" class=\"data row4 col0\" >Clarksville</td>\n",
       "                        <td id=\"T_7fba90c0_5399_11eb_b3f9_a87eea642a75row4_col1\" class=\"data row4 col1\" >120</td>\n",
       "            </tr>\n",
       "            <tr>\n",
       "                        <th id=\"T_7fba90c0_5399_11eb_b3f9_a87eea642a75level0_row5\" class=\"row_heading level0 row5\" >63</th>\n",
       "                        <td id=\"T_7fba90c0_5399_11eb_b3f9_a87eea642a75row5_col0\" class=\"data row5 col0\" >Chattanooga</td>\n",
       "                        <td id=\"T_7fba90c0_5399_11eb_b3f9_a87eea642a75row5_col1\" class=\"data row5 col1\" >18</td>\n",
       "            </tr>\n",
       "    </tbody></table>"
      ],
      "text/plain": [
       "<pandas.io.formats.style.Styler at 0x21962cff160>"
      ]
     },
     "execution_count": 36,
     "metadata": {},
     "output_type": "execute_result"
    }
   ],
   "source": [
    "#tried to get text to center align\n",
    "patients_city = patients_city.sort_values(by = 'Smile On Patients', ascending = False)\n",
    "patients_city.style.set_properties(**{'text-align': 'center', 'colheader_justify': 'center'})"
   ]
  },
  {
   "cell_type": "code",
   "execution_count": 37,
   "metadata": {},
   "outputs": [
    {
     "data": {
      "text/html": [
       "<div>\n",
       "<style scoped>\n",
       "    .dataframe tbody tr th:only-of-type {\n",
       "        vertical-align: middle;\n",
       "    }\n",
       "\n",
       "    .dataframe tbody tr th {\n",
       "        vertical-align: top;\n",
       "    }\n",
       "\n",
       "    .dataframe thead th {\n",
       "        text-align: right;\n",
       "    }\n",
       "</style>\n",
       "<table border=\"1\" class=\"dataframe\">\n",
       "  <thead>\n",
       "    <tr style=\"text-align: right;\">\n",
       "      <th></th>\n",
       "      <th>City</th>\n",
       "      <th>Smile On Patients</th>\n",
       "    </tr>\n",
       "  </thead>\n",
       "  <tbody>\n",
       "    <tr>\n",
       "      <th>239</th>\n",
       "      <td>Memphis</td>\n",
       "      <td>1424</td>\n",
       "    </tr>\n",
       "    <tr>\n",
       "      <th>263</th>\n",
       "      <td>Nashville</td>\n",
       "      <td>1142</td>\n",
       "    </tr>\n",
       "    <tr>\n",
       "      <th>262</th>\n",
       "      <td>Murfreesboro</td>\n",
       "      <td>406</td>\n",
       "    </tr>\n",
       "    <tr>\n",
       "      <th>195</th>\n",
       "      <td>Knoxville</td>\n",
       "      <td>386</td>\n",
       "    </tr>\n",
       "    <tr>\n",
       "      <th>69</th>\n",
       "      <td>Clarksville</td>\n",
       "      <td>120</td>\n",
       "    </tr>\n",
       "    <tr>\n",
       "      <th>63</th>\n",
       "      <td>Chattanooga</td>\n",
       "      <td>18</td>\n",
       "    </tr>\n",
       "  </tbody>\n",
       "</table>\n",
       "</div>"
      ],
      "text/plain": [
       "             City  Smile On Patients\n",
       "239       Memphis               1424\n",
       "263     Nashville               1142\n",
       "262  Murfreesboro                406\n",
       "195     Knoxville                386\n",
       "69    Clarksville                120\n",
       "63    Chattanooga                 18"
      ]
     },
     "execution_count": 37,
     "metadata": {},
     "output_type": "execute_result"
    }
   ],
   "source": [
    "patients_city"
   ]
  },
  {
   "cell_type": "markdown",
   "metadata": {},
   "source": [
    "## Smile On Demographic Info"
   ]
  },
  {
   "cell_type": "code",
   "execution_count": 38,
   "metadata": {},
   "outputs": [],
   "source": [
    "#new subset on specific columns\n",
    "so_2 = smile_on[['ReportVersion', 'CallerNum', 'CityName', 'CountyName', 'PostalCode', 'EnteredOn', 'Birth Year', 'SMILE ON 60+ Demographic Information - Gender', 'SMILE ON 60+ Demographic Information - Preferred Language/Language Needed', 'SMILE ON 60+ Demographic Information - Race/Ethnicity', 'SMILE ON 60+ Demographic Information - # of People in Household', 'SMILE ON 60+ Screening - Last Screening Date', 'SMILE ON 60+ Oral Care Encounter - What care was provided to the enrollee? (Select all that apply)', 'SMILE ON 60+ Site Information - Enroller ID', 'SMILE ON 60+ Site Information - Enroller Location']]"
   ]
  },
  {
   "cell_type": "code",
   "execution_count": 39,
   "metadata": {},
   "outputs": [],
   "source": [
    "#removed -1 and -2 CallerNums and dropped duplicate CallerNums, keeping last encounter\n",
    "so_2 = so_2[(so_2['CallerNum'] != -1) & (so_2['CallerNum'] != -2)]\n",
    "so_2 = so_2.sort_values(by='CallerNum')\n",
    "patients_demo = so_2.drop_duplicates(['CallerNum'], keep='last')"
   ]
  },
  {
   "cell_type": "code",
   "execution_count": 40,
   "metadata": {},
   "outputs": [
    {
     "data": {
      "text/plain": [
       "(8706, 15)"
      ]
     },
     "execution_count": 40,
     "metadata": {},
     "output_type": "execute_result"
    }
   ],
   "source": [
    "patients_demo.shape"
   ]
  },
  {
   "cell_type": "code",
   "execution_count": 41,
   "metadata": {},
   "outputs": [
    {
     "name": "stdout",
     "output_type": "stream",
     "text": [
      "<class 'pandas.core.frame.DataFrame'>\n",
      "Int64Index: 8706 entries, 937 to 0\n",
      "Data columns (total 15 columns):\n",
      " #   Column                                                                                              Non-Null Count  Dtype  \n",
      "---  ------                                                                                              --------------  -----  \n",
      " 0   ReportVersion                                                                                       8706 non-null   object \n",
      " 1   CallerNum                                                                                           8706 non-null   int64  \n",
      " 2   CityName                                                                                            8527 non-null   object \n",
      " 3   CountyName                                                                                          8593 non-null   object \n",
      " 4   PostalCode                                                                                          8022 non-null   float64\n",
      " 5   EnteredOn                                                                                           8706 non-null   object \n",
      " 6   Birth Year                                                                                          8706 non-null   object \n",
      " 7   SMILE ON 60+ Demographic Information - Gender                                                       8604 non-null   object \n",
      " 8   SMILE ON 60+ Demographic Information - Preferred Language/Language Needed                           4000 non-null   object \n",
      " 9   SMILE ON 60+ Demographic Information - Race/Ethnicity                                               7822 non-null   object \n",
      " 10  SMILE ON 60+ Demographic Information - # of People in Household                                     8249 non-null   object \n",
      " 11  SMILE ON 60+ Screening - Last Screening Date                                                        2092 non-null   object \n",
      " 12  SMILE ON 60+ Oral Care Encounter - What care was provided to the enrollee? (Select all that apply)  3570 non-null   object \n",
      " 13  SMILE ON 60+ Site Information - Enroller ID                                                         5819 non-null   object \n",
      " 14  SMILE ON 60+ Site Information - Enroller Location                                                   6742 non-null   object \n",
      "dtypes: float64(1), int64(1), object(13)\n",
      "memory usage: 1.1+ MB\n"
     ]
    }
   ],
   "source": [
    "patients_demo.info()"
   ]
  },
  {
   "cell_type": "code",
   "execution_count": 42,
   "metadata": {},
   "outputs": [
    {
     "data": {
      "text/plain": [
       "Female         5611\n",
       "Male           2991\n",
       "Transgender       1\n",
       "Other             1\n",
       "Name: SMILE ON 60+ Demographic Information - Gender, dtype: int64"
      ]
     },
     "execution_count": 42,
     "metadata": {},
     "output_type": "execute_result"
    }
   ],
   "source": [
    "patients_demo['SMILE ON 60+ Demographic Information - Gender'].value_counts()"
   ]
  },
  {
   "cell_type": "code",
   "execution_count": 43,
   "metadata": {},
   "outputs": [
    {
     "data": {
      "image/png": "[encoded data removed]",
      "text/plain": [
       "<Figure size 432x432 with 1 Axes>"
      ]
     },
     "metadata": {},
     "output_type": "display_data"
    }
   ],
   "source": [
    "#gender pie chart\n",
    "x = [5611, 2991]\n",
    "y = ['Female', 'Male']\n",
    "color_list = ['#EE2737', '#D9D9D9'] #4179AB\n",
    "\n",
    "fg, ax = plt.subplots(figsize=(6,6))\n",
    "autotexts = ax.pie(x, labels = y, autopct = '%1.1f%%', colors = color_list, labeldistance = .35, textprops=dict(fontsize=18, fontfamily='Arial'))\n",
    "#plt.setp(autotexts, size=8)\n",
    "plt.show()"
   ]
  },
  {
   "cell_type": "code",
   "execution_count": 44,
   "metadata": {},
   "outputs": [],
   "source": [
    "#race breakdown data frame\n",
    "race_ethnicity = patients_demo['SMILE ON 60+ Demographic Information - Race/Ethnicity'].value_counts().to_frame().reset_index()"
   ]
  },
  {
   "cell_type": "code",
   "execution_count": 45,
   "metadata": {},
   "outputs": [],
   "source": [
    "#rename columns\n",
    "race_ethnicity.columns = ['Race/Ethnicity', 'Enrollees']"
   ]
  },
  {
   "cell_type": "code",
   "execution_count": 46,
   "metadata": {},
   "outputs": [
    {
     "data": {
      "text/html": [
       "<div>\n",
       "<style scoped>\n",
       "    .dataframe tbody tr th:only-of-type {\n",
       "        vertical-align: middle;\n",
       "    }\n",
       "\n",
       "    .dataframe tbody tr th {\n",
       "        vertical-align: top;\n",
       "    }\n",
       "\n",
       "    .dataframe thead th {\n",
       "        text-align: right;\n",
       "    }\n",
       "</style>\n",
       "<table border=\"1\" class=\"dataframe\">\n",
       "  <thead>\n",
       "    <tr style=\"text-align: right;\">\n",
       "      <th></th>\n",
       "      <th>Race/Ethnicity</th>\n",
       "      <th>Enrollees</th>\n",
       "    </tr>\n",
       "  </thead>\n",
       "  <tbody>\n",
       "    <tr>\n",
       "      <th>7</th>\n",
       "      <td>Pacific Islander</td>\n",
       "      <td>4</td>\n",
       "    </tr>\n",
       "    <tr>\n",
       "      <th>6</th>\n",
       "      <td>Multi-racial</td>\n",
       "      <td>27</td>\n",
       "    </tr>\n",
       "    <tr>\n",
       "      <th>5</th>\n",
       "      <td>American Indian and Alaska Native</td>\n",
       "      <td>46</td>\n",
       "    </tr>\n",
       "    <tr>\n",
       "      <th>4</th>\n",
       "      <td>Unknown</td>\n",
       "      <td>97</td>\n",
       "    </tr>\n",
       "    <tr>\n",
       "      <th>3</th>\n",
       "      <td>Asian</td>\n",
       "      <td>119</td>\n",
       "    </tr>\n",
       "    <tr>\n",
       "      <th>2</th>\n",
       "      <td>Hispanic</td>\n",
       "      <td>350</td>\n",
       "    </tr>\n",
       "    <tr>\n",
       "      <th>1</th>\n",
       "      <td>African American</td>\n",
       "      <td>2229</td>\n",
       "    </tr>\n",
       "    <tr>\n",
       "      <th>0</th>\n",
       "      <td>Caucasian</td>\n",
       "      <td>4950</td>\n",
       "    </tr>\n",
       "  </tbody>\n",
       "</table>\n",
       "</div>"
      ],
      "text/plain": [
       "                      Race/Ethnicity  Enrollees\n",
       "7                   Pacific Islander          4\n",
       "6                       Multi-racial         27\n",
       "5  American Indian and Alaska Native         46\n",
       "4                            Unknown         97\n",
       "3                              Asian        119\n",
       "2                           Hispanic        350\n",
       "1                   African American       2229\n",
       "0                          Caucasian       4950"
      ]
     },
     "execution_count": 46,
     "metadata": {},
     "output_type": "execute_result"
    }
   ],
   "source": [
    "#sort values so they show up the right way on the chart\n",
    "race_ethnicity = race_ethnicity.sort_values(by='Enrollees')\n",
    "race_ethnicity"
   ]
  },
  {
   "cell_type": "code",
   "execution_count": 47,
   "metadata": {},
   "outputs": [
    {
     "data": {
      "image/png": "[encoded data removed]",
      "text/plain": [
       "<Figure size 720x432 with 1 Axes>"
      ]
     },
     "metadata": {},
     "output_type": "display_data"
    }
   ],
   "source": [
    "#race/ethnicity breakdown bar chart\n",
    "f, ax = plt.subplots(figsize=((10,6)))\n",
    "ax.barh(\"Race/Ethnicity\", \"Enrollees\", data=race_ethnicity, label=\"Total\", color='#4179AB') #47709D\n",
    "\n",
    "#labels\n",
    "ax.set_xlabel('Enrollees', fontsize = 14, fontfamily = 'Arial')\n",
    "ax.set_xticklabels([0, 1000, 2000, 3000, 4000, 5000], fontsize = 14, fontfamily = 'Arial')\n",
    "ax.set_ylabel('', fontsize=14)\n",
    "ax.set_yticklabels(race_ethnicity['Race/Ethnicity'], fontsize = 14, fontfamily='Arial')\n",
    "\n",
    "#styling\n",
    "ax.spines['top'].set_visible(False)\n",
    "ax.spines['right'].set_visible(False)\n",
    "ax.spines['left'].set_visible(False)\n",
    "ax.spines['bottom'].set_color('#DDDDDD')\n",
    "ax.tick_params(bottom=False, left=False)\n",
    "ax.set_axisbelow(True)\n",
    "ax.yaxis.grid(True, color='#EEEEEE')\n",
    "ax.xaxis.grid(True, color='#EEEEEE');"
   ]
  },
  {
   "cell_type": "code",
   "execution_count": 48,
   "metadata": {},
   "outputs": [
    {
     "name": "stderr",
     "output_type": "stream",
     "text": [
      "C:\\Users\\heath\\anaconda3\\lib\\site-packages\\pandas\\core\\indexing.py:966: SettingWithCopyWarning: \n",
      "A value is trying to be set on a copy of a slice from a DataFrame.\n",
      "Try using .loc[row_indexer,col_indexer] = value instead\n",
      "\n",
      "See the caveats in the documentation: https://pandas.pydata.org/pandas-docs/stable/user_guide/indexing.html#returning-a-view-versus-a-copy\n",
      "  self.obj[item] = s\n"
     ]
    }
   ],
   "source": [
    "#convert Birth Year column to numeric\n",
    "patients_demo.loc[:,'Birth Year'] = pd.to_numeric(patients_demo.loc[:,'Birth Year'].fillna('2020'),  errors='coerce')"
   ]
  },
  {
   "cell_type": "code",
   "execution_count": 49,
   "metadata": {},
   "outputs": [
    {
     "name": "stdout",
     "output_type": "stream",
     "text": [
      "<class 'pandas.core.frame.DataFrame'>\n",
      "Int64Index: 8706 entries, 937 to 0\n",
      "Data columns (total 15 columns):\n",
      " #   Column                                                                                              Non-Null Count  Dtype  \n",
      "---  ------                                                                                              --------------  -----  \n",
      " 0   ReportVersion                                                                                       8706 non-null   object \n",
      " 1   CallerNum                                                                                           8706 non-null   int64  \n",
      " 2   CityName                                                                                            8527 non-null   object \n",
      " 3   CountyName                                                                                          8593 non-null   object \n",
      " 4   PostalCode                                                                                          8022 non-null   float64\n",
      " 5   EnteredOn                                                                                           8706 non-null   object \n",
      " 6   Birth Year                                                                                          8696 non-null   float64\n",
      " 7   SMILE ON 60+ Demographic Information - Gender                                                       8604 non-null   object \n",
      " 8   SMILE ON 60+ Demographic Information - Preferred Language/Language Needed                           4000 non-null   object \n",
      " 9   SMILE ON 60+ Demographic Information - Race/Ethnicity                                               7822 non-null   object \n",
      " 10  SMILE ON 60+ Demographic Information - # of People in Household                                     8249 non-null   object \n",
      " 11  SMILE ON 60+ Screening - Last Screening Date                                                        2092 non-null   object \n",
      " 12  SMILE ON 60+ Oral Care Encounter - What care was provided to the enrollee? (Select all that apply)  3570 non-null   object \n",
      " 13  SMILE ON 60+ Site Information - Enroller ID                                                         5819 non-null   object \n",
      " 14  SMILE ON 60+ Site Information - Enroller Location                                                   6742 non-null   object \n",
      "dtypes: float64(2), int64(1), object(12)\n",
      "memory usage: 1.1+ MB\n"
     ]
    }
   ],
   "source": [
    "patients_demo.info()"
   ]
  },
  {
   "cell_type": "code",
   "execution_count": 50,
   "metadata": {},
   "outputs": [],
   "source": [
    "#find age of patients\n",
    "age = []\n",
    "for ind, row in patients_demo.iterrows():\n",
    "    age.append(2020.0 - row['Birth Year'])"
   ]
  },
  {
   "cell_type": "code",
   "execution_count": 51,
   "metadata": {},
   "outputs": [
    {
     "data": {
      "text/plain": [
       "[120.0,\n",
       " -2650.0,\n",
       " 76.0,\n",
       " 66.0,\n",
       " 78.0,\n",
       " 69.0,\n",
       " 83.0,\n",
       " 68.0,\n",
       " 66.0,\n",
       " 75.0,\n",
       " 69.0,\n",
       " 81.0,\n",
       " 63.0,\n",
       " 62.0,\n",
       " 75.0,\n",
       " 72.0,\n",
       " 81.0,\n",
       " 74.0,\n",
       " 80.0,\n",
       " 69.0,\n",
       " 77.0,\n",
       " 63.0,\n",
       " 73.0,\n",
       " 76.0,\n",
       " 76.0,\n",
       " 80.0,\n",
       " 66.0,\n",
       " 68.0,\n",
       " 69.0,\n",
       " 66.0,\n",
       " 75.0,\n",
       " 86.0,\n",
       " 63.0,\n",
       " 64.0,\n",
       " 92.0,\n",
       " 67.0,\n",
       " 62.0,\n",
       " 64.0,\n",
       " 73.0,\n",
       " 64.0,\n",
       " 76.0,\n",
       " 67.0,\n",
       " 65.0,\n",
       " 66.0,\n",
       " 67.0,\n",
       " 67.0,\n",
       " 65.0,\n",
       " 120.0,\n",
       " 76.0,\n",
       " 75.0,\n",
       " 75.0,\n",
       " 73.0,\n",
       " 63.0,\n",
       " 72.0,\n",
       " 64.0,\n",
       " 69.0,\n",
       " 63.0,\n",
       " 93.0,\n",
       " 67.0,\n",
       " 74.0,\n",
       " 67.0,\n",
       " 70.0,\n",
       " 62.0,\n",
       " 69.0,\n",
       " 64.0,\n",
       " 68.0,\n",
       " 71.0,\n",
       " 68.0,\n",
       " 69.0,\n",
       " 79.0,\n",
       " 75.0,\n",
       " 65.0,\n",
       " 74.0,\n",
       " 78.0,\n",
       " 76.0,\n",
       " 71.0,\n",
       " 64.0,\n",
       " 62.0,\n",
       " 72.0,\n",
       " 70.0,\n",
       " 63.0,\n",
       " 67.0,\n",
       " 75.0,\n",
       " 74.0,\n",
       " 71.0,\n",
       " 66.0,\n",
       " 79.0,\n",
       " 66.0,\n",
       " 84.0,\n",
       " 67.0,\n",
       " 71.0,\n",
       " 64.0,\n",
       " 66.0,\n",
       " 75.0,\n",
       " 69.0,\n",
       " 64.0,\n",
       " 98.0,\n",
       " 78.0,\n",
       " 63.0,\n",
       " 68.0,\n",
       " 68.0,\n",
       " 67.0,\n",
       " 73.0,\n",
       " 82.0,\n",
       " 70.0,\n",
       " 84.0,\n",
       " 66.0,\n",
       " 64.0,\n",
       " 73.0,\n",
       " 84.0,\n",
       " 64.0,\n",
       " 80.0,\n",
       " 64.0,\n",
       " 77.0,\n",
       " 83.0,\n",
       " 68.0,\n",
       " 66.0,\n",
       " 71.0,\n",
       " 72.0,\n",
       " 67.0,\n",
       " 70.0,\n",
       " 69.0,\n",
       " 79.0,\n",
       " 72.0,\n",
       " 71.0,\n",
       " 75.0,\n",
       " 66.0,\n",
       " 66.0,\n",
       " 71.0,\n",
       " 67.0,\n",
       " 67.0,\n",
       " 73.0,\n",
       " 70.0,\n",
       " 76.0,\n",
       " 63.0,\n",
       " 73.0,\n",
       " 68.0,\n",
       " 67.0,\n",
       " 69.0,\n",
       " 63.0,\n",
       " 65.0,\n",
       " 66.0,\n",
       " 64.0,\n",
       " 67.0,\n",
       " 70.0,\n",
       " 85.0,\n",
       " 72.0,\n",
       " 70.0,\n",
       " 69.0,\n",
       " 71.0,\n",
       " 75.0,\n",
       " 66.0,\n",
       " 68.0,\n",
       " 70.0,\n",
       " 62.0,\n",
       " 80.0,\n",
       " 63.0,\n",
       " 85.0,\n",
       " 72.0,\n",
       " 65.0,\n",
       " 79.0,\n",
       " 79.0,\n",
       " 68.0,\n",
       " 69.0,\n",
       " 76.0,\n",
       " 64.0,\n",
       " 73.0,\n",
       " 66.0,\n",
       " 68.0,\n",
       " 75.0,\n",
       " 81.0,\n",
       " 65.0,\n",
       " 64.0,\n",
       " 74.0,\n",
       " 64.0,\n",
       " 82.0,\n",
       " 79.0,\n",
       " 81.0,\n",
       " 64.0,\n",
       " 66.0,\n",
       " 78.0,\n",
       " 83.0,\n",
       " 76.0,\n",
       " 71.0,\n",
       " 73.0,\n",
       " 69.0,\n",
       " 72.0,\n",
       " 120.0,\n",
       " 64.0,\n",
       " 79.0,\n",
       " 67.0,\n",
       " 83.0,\n",
       " 66.0,\n",
       " 66.0,\n",
       " 67.0,\n",
       " 72.0,\n",
       " 71.0,\n",
       " 65.0,\n",
       " 76.0,\n",
       " 63.0,\n",
       " 120.0,\n",
       " 120.0,\n",
       " 75.0,\n",
       " 84.0,\n",
       " 64.0,\n",
       " 63.0,\n",
       " 69.0,\n",
       " 65.0,\n",
       " 76.0,\n",
       " 67.0,\n",
       " 62.0,\n",
       " 67.0,\n",
       " 64.0,\n",
       " 71.0,\n",
       " 78.0,\n",
       " 64.0,\n",
       " 69.0,\n",
       " 71.0,\n",
       " 62.0,\n",
       " 67.0,\n",
       " 67.0,\n",
       " 75.0,\n",
       " 77.0,\n",
       " 70.0,\n",
       " 70.0,\n",
       " 73.0,\n",
       " 74.0,\n",
       " 76.0,\n",
       " 77.0,\n",
       " 88.0,\n",
       " 70.0,\n",
       " 81.0,\n",
       " 76.0,\n",
       " 64.0,\n",
       " 69.0,\n",
       " 82.0,\n",
       " 69.0,\n",
       " 72.0,\n",
       " 69.0,\n",
       " 73.0,\n",
       " 71.0,\n",
       " 71.0,\n",
       " 80.0,\n",
       " 64.0,\n",
       " 81.0,\n",
       " 66.0,\n",
       " 65.0,\n",
       " 69.0,\n",
       " 73.0,\n",
       " 62.0,\n",
       " 65.0,\n",
       " 76.0,\n",
       " 77.0,\n",
       " 69.0,\n",
       " 62.0,\n",
       " 67.0,\n",
       " 120.0,\n",
       " 75.0,\n",
       " 67.0,\n",
       " 62.0,\n",
       " 79.0,\n",
       " 75.0,\n",
       " 72.0,\n",
       " 68.0,\n",
       " 79.0,\n",
       " 81.0,\n",
       " 65.0,\n",
       " 62.0,\n",
       " 69.0,\n",
       " 75.0,\n",
       " 64.0,\n",
       " 78.0,\n",
       " 69.0,\n",
       " 68.0,\n",
       " 73.0,\n",
       " 65.0,\n",
       " 71.0,\n",
       " 91.0,\n",
       " 64.0,\n",
       " 69.0,\n",
       " 82.0,\n",
       " 69.0,\n",
       " 72.0,\n",
       " 63.0,\n",
       " 65.0,\n",
       " 63.0,\n",
       " 2.0,\n",
       " 73.0,\n",
       " 61.0,\n",
       " 61.0,\n",
       " 65.0,\n",
       " 66.0,\n",
       " 63.0,\n",
       " 67.0,\n",
       " 62.0,\n",
       " 67.0,\n",
       " 67.0,\n",
       " 62.0,\n",
       " 75.0,\n",
       " 73.0,\n",
       " 69.0,\n",
       " 69.0,\n",
       " 69.0,\n",
       " 84.0,\n",
       " 67.0,\n",
       " 66.0,\n",
       " 63.0,\n",
       " 65.0,\n",
       " 76.0,\n",
       " 63.0,\n",
       " 71.0,\n",
       " 76.0,\n",
       " 79.0,\n",
       " 68.0,\n",
       " 63.0,\n",
       " 65.0,\n",
       " 78.0,\n",
       " 120.0,\n",
       " 70.0,\n",
       " 65.0,\n",
       " 75.0,\n",
       " 67.0,\n",
       " 63.0,\n",
       " 64.0,\n",
       " 90.0,\n",
       " 68.0,\n",
       " 91.0,\n",
       " 74.0,\n",
       " 74.0,\n",
       " 80.0,\n",
       " 65.0,\n",
       " 80.0,\n",
       " 85.0,\n",
       " 69.0,\n",
       " 69.0,\n",
       " 84.0,\n",
       " 75.0,\n",
       " 66.0,\n",
       " 71.0,\n",
       " 80.0,\n",
       " 71.0,\n",
       " 87.0,\n",
       " 67.0,\n",
       " 82.0,\n",
       " 70.0,\n",
       " 70.0,\n",
       " 75.0,\n",
       " 68.0,\n",
       " 62.0,\n",
       " 62.0,\n",
       " 73.0,\n",
       " 77.0,\n",
       " 67.0,\n",
       " 67.0,\n",
       " 90.0,\n",
       " 70.0,\n",
       " 65.0,\n",
       " 74.0,\n",
       " 71.0,\n",
       " 80.0,\n",
       " 70.0,\n",
       " 76.0,\n",
       " 65.0,\n",
       " 67.0,\n",
       " 63.0,\n",
       " 69.0,\n",
       " 77.0,\n",
       " 67.0,\n",
       " 71.0,\n",
       " 63.0,\n",
       " 71.0,\n",
       " 65.0,\n",
       " 64.0,\n",
       " 78.0,\n",
       " 2.0,\n",
       " 66.0,\n",
       " 2.0,\n",
       " 67.0,\n",
       " 73.0,\n",
       " 69.0,\n",
       " 65.0,\n",
       " 63.0,\n",
       " 83.0,\n",
       " 78.0,\n",
       " 82.0,\n",
       " 62.0,\n",
       " 67.0,\n",
       " 65.0,\n",
       " 66.0,\n",
       " 71.0,\n",
       " 73.0,\n",
       " 71.0,\n",
       " 67.0,\n",
       " 66.0,\n",
       " 80.0,\n",
       " 72.0,\n",
       " 73.0,\n",
       " 62.0,\n",
       " 63.0,\n",
       " 70.0,\n",
       " 75.0,\n",
       " 73.0,\n",
       " 73.0,\n",
       " 65.0,\n",
       " 77.0,\n",
       " 72.0,\n",
       " 75.0,\n",
       " 62.0,\n",
       " 94.0,\n",
       " 64.0,\n",
       " 67.0,\n",
       " 66.0,\n",
       " 63.0,\n",
       " 64.0,\n",
       " 63.0,\n",
       " 85.0,\n",
       " 63.0,\n",
       " 72.0,\n",
       " 75.0,\n",
       " 64.0,\n",
       " 77.0,\n",
       " 65.0,\n",
       " 70.0,\n",
       " 67.0,\n",
       " 63.0,\n",
       " 67.0,\n",
       " 83.0,\n",
       " 76.0,\n",
       " 62.0,\n",
       " 68.0,\n",
       " 62.0,\n",
       " 67.0,\n",
       " 66.0,\n",
       " 73.0,\n",
       " 68.0,\n",
       " 73.0,\n",
       " 67.0,\n",
       " 64.0,\n",
       " 94.0,\n",
       " 73.0,\n",
       " 65.0,\n",
       " 64.0,\n",
       " 66.0,\n",
       " 66.0,\n",
       " 64.0,\n",
       " 71.0,\n",
       " 81.0,\n",
       " 86.0,\n",
       " 70.0,\n",
       " 71.0,\n",
       " 63.0,\n",
       " 70.0,\n",
       " 71.0,\n",
       " 68.0,\n",
       " 65.0,\n",
       " 120.0,\n",
       " 72.0,\n",
       " 67.0,\n",
       " 65.0,\n",
       " 72.0,\n",
       " 70.0,\n",
       " 37.0,\n",
       " 69.0,\n",
       " 63.0,\n",
       " 62.0,\n",
       " 65.0,\n",
       " 64.0,\n",
       " 81.0,\n",
       " 69.0,\n",
       " 71.0,\n",
       " 84.0,\n",
       " 93.0,\n",
       " 87.0,\n",
       " 65.0,\n",
       " 74.0,\n",
       " 63.0,\n",
       " 76.0,\n",
       " 67.0,\n",
       " 62.0,\n",
       " 74.0,\n",
       " 67.0,\n",
       " 86.0,\n",
       " 63.0,\n",
       " 68.0,\n",
       " 65.0,\n",
       " 70.0,\n",
       " 72.0,\n",
       " 68.0,\n",
       " 68.0,\n",
       " 86.0,\n",
       " 65.0,\n",
       " 62.0,\n",
       " 69.0,\n",
       " 66.0,\n",
       " 67.0,\n",
       " 74.0,\n",
       " 72.0,\n",
       " 66.0,\n",
       " 67.0,\n",
       " 62.0,\n",
       " 65.0,\n",
       " 70.0,\n",
       " 66.0,\n",
       " 64.0,\n",
       " 62.0,\n",
       " 77.0,\n",
       " 85.0,\n",
       " 65.0,\n",
       " 76.0,\n",
       " 67.0,\n",
       " 73.0,\n",
       " 80.0,\n",
       " 72.0,\n",
       " 65.0,\n",
       " 64.0,\n",
       " 65.0,\n",
       " 72.0,\n",
       " 75.0,\n",
       " 72.0,\n",
       " 74.0,\n",
       " 79.0,\n",
       " 69.0,\n",
       " 69.0,\n",
       " 83.0,\n",
       " 88.0,\n",
       " 62.0,\n",
       " 62.0,\n",
       " 64.0,\n",
       " 66.0,\n",
       " 74.0,\n",
       " 74.0,\n",
       " 78.0,\n",
       " 69.0,\n",
       " 75.0,\n",
       " 85.0,\n",
       " 63.0,\n",
       " 68.0,\n",
       " 73.0,\n",
       " 70.0,\n",
       " 77.0,\n",
       " 75.0,\n",
       " 70.0,\n",
       " 62.0,\n",
       " 71.0,\n",
       " 65.0,\n",
       " 63.0,\n",
       " 65.0,\n",
       " 71.0,\n",
       " 66.0,\n",
       " 63.0,\n",
       " 78.0,\n",
       " 67.0,\n",
       " 72.0,\n",
       " 67.0,\n",
       " 71.0,\n",
       " 63.0,\n",
       " 73.0,\n",
       " 72.0,\n",
       " 68.0,\n",
       " 63.0,\n",
       " 72.0,\n",
       " 62.0,\n",
       " 69.0,\n",
       " 90.0,\n",
       " 89.0,\n",
       " 71.0,\n",
       " 66.0,\n",
       " 70.0,\n",
       " 64.0,\n",
       " 72.0,\n",
       " 74.0,\n",
       " 72.0,\n",
       " 81.0,\n",
       " 74.0,\n",
       " 72.0,\n",
       " 82.0,\n",
       " 73.0,\n",
       " 71.0,\n",
       " 69.0,\n",
       " 86.0,\n",
       " 86.0,\n",
       " 72.0,\n",
       " 84.0,\n",
       " 80.0,\n",
       " 74.0,\n",
       " 65.0,\n",
       " 66.0,\n",
       " 78.0,\n",
       " 70.0,\n",
       " 65.0,\n",
       " 81.0,\n",
       " 62.0,\n",
       " 76.0,\n",
       " 65.0,\n",
       " 66.0,\n",
       " 73.0,\n",
       " 66.0,\n",
       " 63.0,\n",
       " 62.0,\n",
       " 64.0,\n",
       " 65.0,\n",
       " 72.0,\n",
       " 69.0,\n",
       " 85.0,\n",
       " 81.0,\n",
       " 87.0,\n",
       " 88.0,\n",
       " 99.0,\n",
       " 85.0,\n",
       " 72.0,\n",
       " 91.0,\n",
       " 76.0,\n",
       " 83.0,\n",
       " 79.0,\n",
       " 71.0,\n",
       " 76.0,\n",
       " 90.0,\n",
       " 79.0,\n",
       " 71.0,\n",
       " 66.0,\n",
       " 68.0,\n",
       " 64.0,\n",
       " 66.0,\n",
       " 68.0,\n",
       " 66.0,\n",
       " 67.0,\n",
       " 63.0,\n",
       " 86.0,\n",
       " 67.0,\n",
       " 66.0,\n",
       " 72.0,\n",
       " 62.0,\n",
       " 93.0,\n",
       " 75.0,\n",
       " 74.0,\n",
       " 79.0,\n",
       " 71.0,\n",
       " 63.0,\n",
       " 62.0,\n",
       " 86.0,\n",
       " 85.0,\n",
       " 76.0,\n",
       " 78.0,\n",
       " 102.0,\n",
       " 64.0,\n",
       " 66.0,\n",
       " 65.0,\n",
       " 62.0,\n",
       " 71.0,\n",
       " 70.0,\n",
       " 62.0,\n",
       " 69.0,\n",
       " 62.0,\n",
       " 69.0,\n",
       " 73.0,\n",
       " 73.0,\n",
       " 74.0,\n",
       " 76.0,\n",
       " 76.0,\n",
       " 72.0,\n",
       " 74.0,\n",
       " 76.0,\n",
       " 87.0,\n",
       " 63.0,\n",
       " 80.0,\n",
       " 66.0,\n",
       " 79.0,\n",
       " 76.0,\n",
       " 79.0,\n",
       " 85.0,\n",
       " 73.0,\n",
       " 67.0,\n",
       " 82.0,\n",
       " 73.0,\n",
       " 68.0,\n",
       " 65.0,\n",
       " 79.0,\n",
       " 68.0,\n",
       " 70.0,\n",
       " 65.0,\n",
       " 79.0,\n",
       " 68.0,\n",
       " 87.0,\n",
       " 75.0,\n",
       " 68.0,\n",
       " 71.0,\n",
       " 89.0,\n",
       " 76.0,\n",
       " 79.0,\n",
       " 76.0,\n",
       " 120.0,\n",
       " 62.0,\n",
       " 68.0,\n",
       " 69.0,\n",
       " 69.0,\n",
       " 64.0,\n",
       " 65.0,\n",
       " 66.0,\n",
       " 63.0,\n",
       " 71.0,\n",
       " 68.0,\n",
       " 82.0,\n",
       " 62.0,\n",
       " 66.0,\n",
       " 63.0,\n",
       " 64.0,\n",
       " 66.0,\n",
       " 91.0,\n",
       " 74.0,\n",
       " 65.0,\n",
       " 71.0,\n",
       " 63.0,\n",
       " 66.0,\n",
       " 62.0,\n",
       " 80.0,\n",
       " 67.0,\n",
       " 67.0,\n",
       " 81.0,\n",
       " 79.0,\n",
       " 62.0,\n",
       " 71.0,\n",
       " 66.0,\n",
       " 70.0,\n",
       " 68.0,\n",
       " 82.0,\n",
       " 79.0,\n",
       " 65.0,\n",
       " 62.0,\n",
       " 66.0,\n",
       " 70.0,\n",
       " 64.0,\n",
       " 65.0,\n",
       " 71.0,\n",
       " 64.0,\n",
       " 81.0,\n",
       " 72.0,\n",
       " 65.0,\n",
       " 67.0,\n",
       " 63.0,\n",
       " 67.0,\n",
       " 89.0,\n",
       " 68.0,\n",
       " 62.0,\n",
       " 81.0,\n",
       " 63.0,\n",
       " 77.0,\n",
       " 77.0,\n",
       " 71.0,\n",
       " 69.0,\n",
       " 66.0,\n",
       " 66.0,\n",
       " 76.0,\n",
       " 63.0,\n",
       " 69.0,\n",
       " 67.0,\n",
       " 75.0,\n",
       " 68.0,\n",
       " 67.0,\n",
       " 65.0,\n",
       " 83.0,\n",
       " 88.0,\n",
       " 73.0,\n",
       " 63.0,\n",
       " 70.0,\n",
       " 73.0,\n",
       " 66.0,\n",
       " 74.0,\n",
       " 71.0,\n",
       " 91.0,\n",
       " 66.0,\n",
       " 79.0,\n",
       " 71.0,\n",
       " 64.0,\n",
       " 71.0,\n",
       " 84.0,\n",
       " 71.0,\n",
       " 71.0,\n",
       " 68.0,\n",
       " 76.0,\n",
       " 64.0,\n",
       " 70.0,\n",
       " 64.0,\n",
       " 73.0,\n",
       " 62.0,\n",
       " 87.0,\n",
       " 63.0,\n",
       " 66.0,\n",
       " 66.0,\n",
       " 81.0,\n",
       " 78.0,\n",
       " 64.0,\n",
       " 71.0,\n",
       " 69.0,\n",
       " 63.0,\n",
       " 63.0,\n",
       " 62.0,\n",
       " 66.0,\n",
       " 62.0,\n",
       " 65.0,\n",
       " 69.0,\n",
       " 65.0,\n",
       " 73.0,\n",
       " 62.0,\n",
       " 63.0,\n",
       " 63.0,\n",
       " 75.0,\n",
       " 77.0,\n",
       " 72.0,\n",
       " 66.0,\n",
       " 63.0,\n",
       " 71.0,\n",
       " 69.0,\n",
       " 74.0,\n",
       " 77.0,\n",
       " 74.0,\n",
       " 73.0,\n",
       " 68.0,\n",
       " 66.0,\n",
       " 74.0,\n",
       " 73.0,\n",
       " 63.0,\n",
       " 75.0,\n",
       " 69.0,\n",
       " 64.0,\n",
       " 72.0,\n",
       " 89.0,\n",
       " 63.0,\n",
       " 67.0,\n",
       " 74.0,\n",
       " 75.0,\n",
       " 79.0,\n",
       " 63.0,\n",
       " 81.0,\n",
       " 66.0,\n",
       " 71.0,\n",
       " 89.0,\n",
       " 72.0,\n",
       " 63.0,\n",
       " 63.0,\n",
       " 67.0,\n",
       " 70.0,\n",
       " 68.0,\n",
       " 66.0,\n",
       " 63.0,\n",
       " 69.0,\n",
       " 87.0,\n",
       " 61.0,\n",
       " 71.0,\n",
       " 62.0,\n",
       " 89.0,\n",
       " 66.0,\n",
       " 68.0,\n",
       " 79.0,\n",
       " 76.0,\n",
       " 71.0,\n",
       " 81.0,\n",
       " 69.0,\n",
       " 64.0,\n",
       " 79.0,\n",
       " 75.0,\n",
       " 75.0,\n",
       " 70.0,\n",
       " 71.0,\n",
       " 73.0,\n",
       " 75.0,\n",
       " 65.0,\n",
       " 94.0,\n",
       " 64.0,\n",
       " 63.0,\n",
       " 62.0,\n",
       " 63.0,\n",
       " 65.0,\n",
       " 78.0,\n",
       " 77.0,\n",
       " 81.0,\n",
       " 86.0,\n",
       " 120.0,\n",
       " 96.0,\n",
       " 75.0,\n",
       " 85.0,\n",
       " 89.0,\n",
       " 92.0,\n",
       " 65.0,\n",
       " 77.0,\n",
       " 62.0,\n",
       " 84.0,\n",
       " 83.0,\n",
       " 64.0,\n",
       " 63.0,\n",
       " 79.0,\n",
       " 63.0,\n",
       " 65.0,\n",
       " 63.0,\n",
       " 78.0,\n",
       " 69.0,\n",
       " 65.0,\n",
       " 70.0,\n",
       " 65.0,\n",
       " 76.0,\n",
       " 63.0,\n",
       " 65.0,\n",
       " 65.0,\n",
       " 63.0,\n",
       " 73.0,\n",
       " 80.0,\n",
       " 85.0,\n",
       " 73.0,\n",
       " 64.0,\n",
       " 63.0,\n",
       " 77.0,\n",
       " 71.0,\n",
       " 64.0,\n",
       " 68.0,\n",
       " 62.0,\n",
       " 66.0,\n",
       " 64.0,\n",
       " 66.0,\n",
       " 68.0,\n",
       " 64.0,\n",
       " 72.0,\n",
       " 65.0,\n",
       " 71.0,\n",
       " 71.0,\n",
       " 78.0,\n",
       " 83.0,\n",
       " 81.0,\n",
       " 62.0,\n",
       " 62.0,\n",
       " 65.0,\n",
       " 68.0,\n",
       " 73.0,\n",
       " 62.0,\n",
       " 78.0,\n",
       " 66.0,\n",
       " 63.0,\n",
       " 78.0,\n",
       " 79.0,\n",
       " 73.0,\n",
       " 74.0,\n",
       " 62.0,\n",
       " 68.0,\n",
       " 68.0,\n",
       " 85.0,\n",
       " 74.0,\n",
       " 67.0,\n",
       " 81.0,\n",
       " 70.0,\n",
       " 71.0,\n",
       " 65.0,\n",
       " 81.0,\n",
       " 68.0,\n",
       " 79.0,\n",
       " 80.0,\n",
       " 75.0,\n",
       " 74.0,\n",
       " 64.0,\n",
       " 62.0,\n",
       " 69.0,\n",
       " 64.0,\n",
       " 70.0,\n",
       " 65.0,\n",
       " 75.0,\n",
       " 67.0,\n",
       " 77.0,\n",
       " 67.0,\n",
       " 79.0,\n",
       " 67.0,\n",
       " 62.0,\n",
       " 72.0,\n",
       " 63.0,\n",
       " 71.0,\n",
       " 65.0,\n",
       " 74.0,\n",
       " 85.0,\n",
       " 82.0,\n",
       " 63.0,\n",
       " 85.0,\n",
       " 65.0,\n",
       " 62.0,\n",
       " 79.0,\n",
       " 73.0,\n",
       " 66.0,\n",
       " 63.0,\n",
       " 73.0,\n",
       " 95.0,\n",
       " 72.0,\n",
       " 69.0,\n",
       " 77.0,\n",
       " 72.0,\n",
       " 81.0,\n",
       " 64.0,\n",
       " 69.0,\n",
       " 79.0,\n",
       " 67.0,\n",
       " 79.0,\n",
       " 63.0,\n",
       " 63.0,\n",
       " 66.0,\n",
       " 64.0,\n",
       " 70.0,\n",
       " ...]"
      ]
     },
     "execution_count": 51,
     "metadata": {},
     "output_type": "execute_result"
    }
   ],
   "source": [
    "age"
   ]
  },
  {
   "cell_type": "code",
   "execution_count": 52,
   "metadata": {},
   "outputs": [
    {
     "data": {
      "text/plain": [
       "8706"
      ]
     },
     "execution_count": 52,
     "metadata": {},
     "output_type": "execute_result"
    }
   ],
   "source": [
    "len(age)"
   ]
  },
  {
   "cell_type": "code",
   "execution_count": 53,
   "metadata": {},
   "outputs": [
    {
     "name": "stderr",
     "output_type": "stream",
     "text": [
      "<ipython-input-53-7a45f0f5cddd>:2: SettingWithCopyWarning: \n",
      "A value is trying to be set on a copy of a slice from a DataFrame.\n",
      "Try using .loc[row_indexer,col_indexer] = value instead\n",
      "\n",
      "See the caveats in the documentation: https://pandas.pydata.org/pandas-docs/stable/user_guide/indexing.html#returning-a-view-versus-a-copy\n",
      "  patients_demo['age'] = age\n"
     ]
    }
   ],
   "source": [
    "#created new column in data frame\n",
    "patients_demo['age'] = age"
   ]
  },
  {
   "cell_type": "code",
   "execution_count": 55,
   "metadata": {},
   "outputs": [],
   "source": [
    "#patients_demo"
   ]
  },
  {
   "cell_type": "code",
   "execution_count": 56,
   "metadata": {},
   "outputs": [
    {
     "name": "stderr",
     "output_type": "stream",
     "text": [
      "<ipython-input-56-5460b90e8250>:2: SettingWithCopyWarning: \n",
      "A value is trying to be set on a copy of a slice from a DataFrame.\n",
      "Try using .loc[row_indexer,col_indexer] = value instead\n",
      "\n",
      "See the caveats in the documentation: https://pandas.pydata.org/pandas-docs/stable/user_guide/indexing.html#returning-a-view-versus-a-copy\n",
      "  patients_demo['age'] = patients_demo.age.dropna().astype(int)\n"
     ]
    }
   ],
   "source": [
    "#convert age column from float to integer\n",
    "patients_demo['age'] = patients_demo.age.dropna().astype(int)"
   ]
  },
  {
   "cell_type": "code",
   "execution_count": 57,
   "metadata": {},
   "outputs": [],
   "source": [
    "#eligible paticipants/filter out 120 year old\n",
    "age_chart = patients_demo[(patients_demo['age'] > 59) & (patients_demo['age'] < 111)]"
   ]
  },
  {
   "cell_type": "code",
   "execution_count": 58,
   "metadata": {},
   "outputs": [
    {
     "data": {
      "text/plain": [
       "<matplotlib.axes._subplots.AxesSubplot at 0x2196854fbb0>"
      ]
     },
     "execution_count": 58,
     "metadata": {},
     "output_type": "execute_result"
    },
    {
     "data": {
      "image/png": "[encoded data removed]",
      "text/plain": [
       "<Figure size 432x288 with 1 Axes>"
      ]
     },
     "metadata": {},
     "output_type": "display_data"
    }
   ],
   "source": [
    "#age histogram\n",
    "age_chart['age'].hist(bins=8)"
   ]
  },
  {
   "cell_type": "code",
   "execution_count": 60,
   "metadata": {},
   "outputs": [
    {
     "name": "stderr",
     "output_type": "stream",
     "text": [
      "<ipython-input-60-252f51c6bf8a>:4: SettingWithCopyWarning: \n",
      "A value is trying to be set on a copy of a slice from a DataFrame.\n",
      "Try using .loc[row_indexer,col_indexer] = value instead\n",
      "\n",
      "See the caveats in the documentation: https://pandas.pydata.org/pandas-docs/stable/user_guide/indexing.html#returning-a-view-versus-a-copy\n",
      "  age_chart['AgeGroup'] = pd.cut(age_chart['age'], bins=bins, labels=labels, right=False)\n"
     ]
    }
   ],
   "source": [
    "#create bins/age group column\n",
    "bins= [60,65,70,75,80,85,90,95,100]\n",
    "labels = ['60-64','65-69','70-74','75-79','80-84','85-89','90-94','95-99']\n",
    "age_chart['AgeGroup'] = pd.cut(age_chart['age'], bins=bins, labels=labels, right=False)\n",
    "#age_chart.head(20)"
   ]
  },
  {
   "cell_type": "code",
   "execution_count": 61,
   "metadata": {},
   "outputs": [],
   "source": [
    "#number of patients in each age group, create data frame\n",
    "age_chart_real = age_chart['AgeGroup'].value_counts().to_frame().reset_index()"
   ]
  },
  {
   "cell_type": "code",
   "execution_count": 62,
   "metadata": {},
   "outputs": [],
   "source": [
    "#rename columns\n",
    "age_chart_real.columns = ['Age Range', 'Enrollees']"
   ]
  },
  {
   "cell_type": "code",
   "execution_count": 63,
   "metadata": {},
   "outputs": [
    {
     "data": {
      "text/html": [
       "<div>\n",
       "<style scoped>\n",
       "    .dataframe tbody tr th:only-of-type {\n",
       "        vertical-align: middle;\n",
       "    }\n",
       "\n",
       "    .dataframe tbody tr th {\n",
       "        vertical-align: top;\n",
       "    }\n",
       "\n",
       "    .dataframe thead th {\n",
       "        text-align: right;\n",
       "    }\n",
       "</style>\n",
       "<table border=\"1\" class=\"dataframe\">\n",
       "  <thead>\n",
       "    <tr style=\"text-align: right;\">\n",
       "      <th></th>\n",
       "      <th>Age Range</th>\n",
       "      <th>Enrollees</th>\n",
       "    </tr>\n",
       "  </thead>\n",
       "  <tbody>\n",
       "    <tr>\n",
       "      <th>0</th>\n",
       "      <td>60-64</td>\n",
       "      <td>2731</td>\n",
       "    </tr>\n",
       "    <tr>\n",
       "      <th>1</th>\n",
       "      <td>65-69</td>\n",
       "      <td>2304</td>\n",
       "    </tr>\n",
       "    <tr>\n",
       "      <th>2</th>\n",
       "      <td>70-74</td>\n",
       "      <td>1477</td>\n",
       "    </tr>\n",
       "    <tr>\n",
       "      <th>3</th>\n",
       "      <td>75-79</td>\n",
       "      <td>978</td>\n",
       "    </tr>\n",
       "    <tr>\n",
       "      <th>4</th>\n",
       "      <td>80-84</td>\n",
       "      <td>552</td>\n",
       "    </tr>\n",
       "    <tr>\n",
       "      <th>5</th>\n",
       "      <td>85-89</td>\n",
       "      <td>330</td>\n",
       "    </tr>\n",
       "    <tr>\n",
       "      <th>6</th>\n",
       "      <td>90-94</td>\n",
       "      <td>126</td>\n",
       "    </tr>\n",
       "    <tr>\n",
       "      <th>7</th>\n",
       "      <td>95-99</td>\n",
       "      <td>34</td>\n",
       "    </tr>\n",
       "  </tbody>\n",
       "</table>\n",
       "</div>"
      ],
      "text/plain": [
       "  Age Range  Enrollees\n",
       "0     60-64       2731\n",
       "1     65-69       2304\n",
       "2     70-74       1477\n",
       "3     75-79        978\n",
       "4     80-84        552\n",
       "5     85-89        330\n",
       "6     90-94        126\n",
       "7     95-99         34"
      ]
     },
     "execution_count": 63,
     "metadata": {},
     "output_type": "execute_result"
    }
   ],
   "source": [
    "age_chart_real"
   ]
  },
  {
   "cell_type": "code",
   "execution_count": 64,
   "metadata": {},
   "outputs": [
    {
     "data": {
      "image/png": "[encoded data removed]",
      "text/plain": [
       "<Figure size 720x432 with 1 Axes>"
      ]
     },
     "metadata": {},
     "output_type": "display_data"
    }
   ],
   "source": [
    "#age group bar chart\n",
    "f, ax = plt.subplots(figsize=((10,6)))\n",
    "ax.bar(\"Age Range\", \"Enrollees\", data=age_chart_real, label=\"Total\", color='#B5E1E1') #47709D #4179AB\n",
    "\n",
    "#labels\n",
    "ax.set_xlabel('Age Groups', fontsize = 14, fontfamily = 'Arial')\n",
    "ax.set_xticklabels(age_chart_real['Age Range'], fontsize = 14, fontfamily = 'Arial')\n",
    "ax.set_ylabel('Enrollees', fontsize=14, fontfamily = 'Arial')\n",
    "ax.set_yticklabels([0, 500, 1000, 1500, 2000, 2500], fontsize = 14, fontfamily='Arial')\n",
    "\n",
    "#styling\n",
    "ax.spines['top'].set_visible(False)\n",
    "ax.spines['right'].set_visible(False)\n",
    "ax.spines['left'].set_visible(False)\n",
    "ax.spines['bottom'].set_color('#DDDDDD')\n",
    "ax.tick_params(bottom=False, left=False)\n",
    "ax.set_axisbelow(True)\n",
    "ax.yaxis.grid(True, color='#EEEEEE')\n",
    "ax.xaxis.grid(True, color='#EEEEEE');"
   ]
  },
  {
   "cell_type": "code",
   "execution_count": 65,
   "metadata": {},
   "outputs": [],
   "source": [
    "#new data frame 'How did you first hear about the SMILE ON 60+ program?'\n",
    "hear = smile_on[['CallerNum','SMILE ON 60+ Demographic Information - How did you first hear about the SMILE ON 60+ program?']]"
   ]
  },
  {
   "cell_type": "code",
   "execution_count": 66,
   "metadata": {},
   "outputs": [],
   "source": [
    "#drop duplicate patients\n",
    "hear = hear.drop_duplicates(['CallerNum'], keep='last')"
   ]
  },
  {
   "cell_type": "code",
   "execution_count": 67,
   "metadata": {},
   "outputs": [],
   "source": [
    "#how they heard/number of patients \n",
    "marketing = hear['SMILE ON 60+ Demographic Information - How did you first hear about the SMILE ON 60+ program?'].value_counts().to_frame().reset_index()"
   ]
  },
  {
   "cell_type": "code",
   "execution_count": 68,
   "metadata": {},
   "outputs": [],
   "source": [
    "#renmae columns\n",
    "marketing.columns = ['Type', 'Number']"
   ]
  },
  {
   "cell_type": "code",
   "execution_count": 69,
   "metadata": {},
   "outputs": [],
   "source": [
    "#sort values to get bar chart in right order\n",
    "marketing = marketing.sort_values(by='Number', ascending=True)"
   ]
  },
  {
   "cell_type": "code",
   "execution_count": 70,
   "metadata": {},
   "outputs": [
    {
     "data": {
      "text/html": [
       "<div>\n",
       "<style scoped>\n",
       "    .dataframe tbody tr th:only-of-type {\n",
       "        vertical-align: middle;\n",
       "    }\n",
       "\n",
       "    .dataframe tbody tr th {\n",
       "        vertical-align: top;\n",
       "    }\n",
       "\n",
       "    .dataframe thead th {\n",
       "        text-align: right;\n",
       "    }\n",
       "</style>\n",
       "<table border=\"1\" class=\"dataframe\">\n",
       "  <thead>\n",
       "    <tr style=\"text-align: right;\">\n",
       "      <th></th>\n",
       "      <th>Type</th>\n",
       "      <th>Number</th>\n",
       "    </tr>\n",
       "  </thead>\n",
       "  <tbody>\n",
       "    <tr>\n",
       "      <th>13</th>\n",
       "      <td>Tennessee Alliance for Legal Services</td>\n",
       "      <td>2</td>\n",
       "    </tr>\n",
       "    <tr>\n",
       "      <th>14</th>\n",
       "      <td>Habitat for Humanity Greater Memphis</td>\n",
       "      <td>2</td>\n",
       "    </tr>\n",
       "    <tr>\n",
       "      <th>11</th>\n",
       "      <td>Health Assist</td>\n",
       "      <td>11</td>\n",
       "    </tr>\n",
       "    <tr>\n",
       "      <th>12</th>\n",
       "      <td>Radio</td>\n",
       "      <td>11</td>\n",
       "    </tr>\n",
       "    <tr>\n",
       "      <th>10</th>\n",
       "      <td>SHIP Navigator</td>\n",
       "      <td>24</td>\n",
       "    </tr>\n",
       "    <tr>\n",
       "      <th>9</th>\n",
       "      <td>Dental Hotline</td>\n",
       "      <td>31</td>\n",
       "    </tr>\n",
       "    <tr>\n",
       "      <th>8</th>\n",
       "      <td>Newspaper</td>\n",
       "      <td>49</td>\n",
       "    </tr>\n",
       "    <tr>\n",
       "      <th>7</th>\n",
       "      <td>Flyer</td>\n",
       "      <td>135</td>\n",
       "    </tr>\n",
       "    <tr>\n",
       "      <th>6</th>\n",
       "      <td>TV</td>\n",
       "      <td>200</td>\n",
       "    </tr>\n",
       "    <tr>\n",
       "      <th>5</th>\n",
       "      <td>Senior Center</td>\n",
       "      <td>342</td>\n",
       "    </tr>\n",
       "    <tr>\n",
       "      <th>4</th>\n",
       "      <td>This encounter</td>\n",
       "      <td>348</td>\n",
       "    </tr>\n",
       "    <tr>\n",
       "      <th>3</th>\n",
       "      <td>SMILE ON CDHC</td>\n",
       "      <td>566</td>\n",
       "    </tr>\n",
       "    <tr>\n",
       "      <th>2</th>\n",
       "      <td>Wisdom Tooth Project Presentation</td>\n",
       "      <td>863</td>\n",
       "    </tr>\n",
       "    <tr>\n",
       "      <th>1</th>\n",
       "      <td>Other</td>\n",
       "      <td>1354</td>\n",
       "    </tr>\n",
       "    <tr>\n",
       "      <th>0</th>\n",
       "      <td>Dental Clinic Staff</td>\n",
       "      <td>4261</td>\n",
       "    </tr>\n",
       "  </tbody>\n",
       "</table>\n",
       "</div>"
      ],
      "text/plain": [
       "                                     Type  Number\n",
       "13  Tennessee Alliance for Legal Services       2\n",
       "14   Habitat for Humanity Greater Memphis       2\n",
       "11                          Health Assist      11\n",
       "12                                  Radio      11\n",
       "10                         SHIP Navigator      24\n",
       "9                          Dental Hotline      31\n",
       "8                               Newspaper      49\n",
       "7                                   Flyer     135\n",
       "6                                      TV     200\n",
       "5                           Senior Center     342\n",
       "4                          This encounter     348\n",
       "3                           SMILE ON CDHC     566\n",
       "2       Wisdom Tooth Project Presentation     863\n",
       "1                                   Other    1354\n",
       "0                     Dental Clinic Staff    4261"
      ]
     },
     "execution_count": 70,
     "metadata": {},
     "output_type": "execute_result"
    }
   ],
   "source": [
    "marketing"
   ]
  },
  {
   "cell_type": "code",
   "execution_count": 71,
   "metadata": {},
   "outputs": [
    {
     "data": {
      "image/png": "[encoded data removed]",
      "text/plain": [
       "<Figure size 720x432 with 1 Axes>"
      ]
     },
     "metadata": {},
     "output_type": "display_data"
    }
   ],
   "source": [
    "#create bar chart\n",
    "f, ax = plt.subplots(figsize=((10,6)))\n",
    "ax.barh(\"Type\", \"Number\", data=marketing, label=\"Total\", color='#4179AB') #47709D\n",
    "\n",
    "#labels\n",
    "ax.set_xlabel('Enrollees', fontsize = 14, fontfamily = 'Arial')\n",
    "ax.set_xticklabels([0, 5000, 10000, 15000, 20000], fontsize = 14, fontfamily = 'Arial')\n",
    "ax.set_ylabel('', fontsize=14)\n",
    "ax.set_yticklabels(marketing['Type'], fontsize = 14, fontfamily='Arial')\n",
    "\n",
    "#styling\n",
    "ax.spines['top'].set_visible(False)\n",
    "ax.spines['right'].set_visible(False)\n",
    "ax.spines['left'].set_visible(False)\n",
    "ax.spines['bottom'].set_color('#DDDDDD')\n",
    "ax.tick_params(bottom=False, left=False)\n",
    "ax.set_axisbelow(True)\n",
    "ax.yaxis.grid(True, color='#EEEEEE')\n",
    "ax.xaxis.grid(True, color='#EEEEEE');"
   ]
  },
  {
   "cell_type": "code",
   "execution_count": null,
   "metadata": {},
   "outputs": [],
   "source": []
  }
 ],
 "metadata": {
  "kernelspec": {
   "display_name": "Python 3",
   "language": "python",
   "name": "python3"
  },
  "language_info": {
   "codemirror_mode": {
    "name": "ipython",
    "version": 3
   },
   "file_extension": ".py",
   "mimetype": "text/x-python",
   "name": "python",
   "nbconvert_exporter": "python",
   "pygments_lexer": "ipython3",
   "version": "3.8.3"
  }
 },
 "nbformat": 4,
 "nbformat_minor": 4
}
