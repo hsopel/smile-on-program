{
 "cells": [
  {
   "cell_type": "code",
   "execution_count": 1,
   "metadata": {},
   "outputs": [],
   "source": [
    "import pandas as pd\n",
    "from matplotlib import pyplot as plt\n",
    "import seaborn as sns\n",
    "import numpy as np"
   ]
  },
  {
   "cell_type": "code",
   "execution_count": 3,
   "metadata": {},
   "outputs": [],
   "source": [
    "smile_on = pd.read_csv('../data/SmileOn11.28.2020.csv', sep = ',', encoding='gbk', skiprows = 2)\n",
    "data_dict = pd.read_excel('../data/Data_Dictionary.xlsx')\n",
    "bill = pd.read_csv('../data2/Medicare_Provider_Utilization_and_Payment_Data__Physician_and_Other_Supplier_PUF_CY2017 (1).csv')\n",
    "prov_out = pd.read_csv('../data2/Provider_Outpatient_Hospital_Charge_Data_by_APC__CY2017.csv')\n",
    "city_info = pd.read_csv('../data2/500_Cities__Local_Data_for_Better_Health__2019_release.csv')\n",
    "apc = pd.read_excel('../data2/2020_October_Web_Addendum_B.10212020.xlsx', skiprows = 2)\n",
    "hcpcs = pd.read_excel('../data2/2020_October_Web_Addendum_A.10212020.xlsx', skiprows = 1)"
   ]
  },
  {
   "cell_type": "code",
   "execution_count": 5,
   "metadata": {},
   "outputs": [],
   "source": [
    "#data_dict.head()"
   ]
  },
  {
   "cell_type": "code",
   "execution_count": 6,
   "metadata": {},
   "outputs": [
    {
     "data": {
      "text/plain": [
       "Comprehensive Observation Services                         87\n",
       "Level 1 Laparoscopy and Related Services                   67\n",
       "Level 2 Excision/ Biopsy/ Incision and Drainage            66\n",
       "Level 3 Musculoskeletal Procedures                         65\n",
       "Level 2 Upper GI Procedures                                59\n",
       "Abdominal/Peritoneal/Biliary and Related Procedures        58\n",
       "Level 4 Musculoskeletal Procedures                         58\n",
       "Level 2 Musculoskeletal Procedures                         49\n",
       "Level 5 Urology and Related Services                       49\n",
       "Level 4 Urology and Related Services                       48\n",
       "Level 3 Urology and Related Services                       48\n",
       "Level 1 Endovascular Procedures                            47\n",
       "Level 3 Endovascular Procedures                            44\n",
       "Level 1 Intraocular Procedures                             43\n",
       "Level 3 Excision/ Biopsy/ Incision and Drainage            41\n",
       "Level 4 Airway Endoscopy                                   38\n",
       "Level 1 Nerve Procedures                                   36\n",
       "Level 3 Pacemaker and Similar Procedures                   32\n",
       "Level 2 Breast/Lymphatic Surgery and Related Procedures    32\n",
       "Level 1 Breast/Lymphatic Surgery and Related Procedures    30\n",
       "Level 3 Airway Endoscopy                                   29\n",
       "Level 5 Musculoskeletal Procedures                         29\n",
       "Level 2 Endovascular Procedures                            27\n",
       "Level 4 Gynecologic Procedures                             27\n",
       "Level 2 Laparoscopy and Related Services                   26\n",
       "Level 2 Pacemaker and Similar Procedures                   23\n",
       "Level 4 Endovascular Procedures                            23\n",
       "Level 5 Gynecologic Procedures                             23\n",
       "Level 2 ICD and Similar Procedures                         21\n",
       "Level 5 ENT Procedures                                     20\n",
       "Level 3 Electrophysiologic Procedures                      17\n",
       "Level 3 Lower GI Procedures                                17\n",
       "Level 3 Upper GI Procedures                                16\n",
       "Level 2 Intraocular Procedures                             14\n",
       "Level 3 Neurostimulator and Related Procedures             13\n",
       "Level 5 Airway Endoscopy                                   13\n",
       "Complex GI Procedures                                      13\n",
       "Level 1 ICD and Similar Procedures                         12\n",
       "Level 6 Gynecologic Procedures                             11\n",
       "Level 4 Neurostimulator and Related Procedures             11\n",
       "Level 4 ENT Procedures                                     11\n",
       "Level 3 Extraocular, Repair, and Plastic Eye Procedures    10\n",
       "Level 6 Urology and Related Services                       10\n",
       "Level 2 Neurostimulator and Related Procedures              9\n",
       "Level 2 Electrophysiologic Procedures                       8\n",
       "Level 7 Radiation Therapy                                   7\n",
       "Level 7 Urology and Related Services                        6\n",
       "Level 4 Pacemaker and Similar Procedures                    5\n",
       "Level 4 Breast/Lymphatic Surgery and Related Procedures     5\n",
       "Level 4 Extraocular, Repair, and Plastic Eye Procedures     4\n",
       "Implantation of Drug Infusion Device                        3\n",
       "Cochlear Implant Procedure                                  2\n",
       "Level 3 Breast/Lymphatic Surgery and Related Procedures     2\n",
       "Level 2 Nerve Procedures                                    2\n",
       "Level 6 Musculoskeletal Procedures                          2\n",
       "Name: APC_Desc, dtype: int64"
      ]
     },
     "execution_count": 6,
     "metadata": {},
     "output_type": "execute_result"
    }
   ],
   "source": [
    "prov_out.APC_Desc.value_counts()"
   ]
  },
  {
   "cell_type": "code",
   "execution_count": 7,
   "metadata": {},
   "outputs": [
    {
     "data": {
      "text/plain": [
       "Index(['National Provider Identifier',\n",
       "       'Last Name/Organization Name of the Provider',\n",
       "       'First Name of the Provider', 'Middle Initial of the Provider',\n",
       "       'Credentials of the Provider', 'Gender of the Provider',\n",
       "       'Entity Type of the Provider', 'Street Address 1 of the Provider',\n",
       "       'Street Address 2 of the Provider', 'City of the Provider',\n",
       "       'Zip Code of the Provider', 'State Code of the Provider',\n",
       "       'Country Code of the Provider', 'Provider Type',\n",
       "       'Medicare Participation Indicator', 'Place of Service', 'HCPCS Code',\n",
       "       'HCPCS Description', 'HCPCS Drug Indicator', 'Number of Services',\n",
       "       'Number of Medicare Beneficiaries',\n",
       "       'Number of Distinct Medicare Beneficiary/Per Day Services',\n",
       "       'Average Medicare Allowed Amount', 'Average Submitted Charge Amount',\n",
       "       'Average Medicare Payment Amount',\n",
       "       'Average Medicare Standardized Amount'],\n",
       "      dtype='object')"
      ]
     },
     "execution_count": 7,
     "metadata": {},
     "output_type": "execute_result"
    }
   ],
   "source": [
    "bill.columns"
   ]
  },
  {
   "cell_type": "code",
   "execution_count": 8,
   "metadata": {},
   "outputs": [],
   "source": [
    "city_info_tn = city_info[city_info['StateAbbr'] == 'TN']"
   ]
  },
  {
   "cell_type": "code",
   "execution_count": 9,
   "metadata": {},
   "outputs": [],
   "source": [
    "city_info_tn_teeth_loss = city_info_tn[(city_info_tn['Measure'] == 'All teeth lost among adults aged >=65 Years') & (city_info_tn['GeographicLevel'] == 'City') & (city_info_tn['DataValueTypeID'] == 'AgeAdjPrv')]"
   ]
  },
  {
   "cell_type": "code",
   "execution_count": 10,
   "metadata": {},
   "outputs": [],
   "source": [
    "tooth_loss_chart = city_info_tn_teeth_loss.iloc[:, 0:18].sort_values(by='CityName')"
   ]
  },
  {
   "cell_type": "code",
   "execution_count": 11,
   "metadata": {},
   "outputs": [],
   "source": [
    "tooth_loss_chart = tooth_loss_chart.sort_values(by='Data_Value')"
   ]
  },
  {
   "cell_type": "code",
   "execution_count": 12,
   "metadata": {},
   "outputs": [],
   "source": [
    "#city_teeth.columns=['CityName','Data_Value_Type', 'Data_Value','Low_Confidence_Limit','High_Confidence_Limit','PopulationCount']\n"
   ]
  },
  {
   "cell_type": "code",
   "execution_count": 13,
   "metadata": {},
   "outputs": [
    {
     "data": {
      "text/plain": [
       "<matplotlib.axes._subplots.AxesSubplot at 0x14173845730>"
      ]
     },
     "execution_count": 13,
     "metadata": {},
     "output_type": "execute_result"
    },
    {
     "data": {
      "image/png": "[encoded data removed]",
      "text/plain": [
       "<Figure size 864x720 with 1 Axes>"
      ]
     },
     "metadata": {},
     "output_type": "display_data"
    }
   ],
   "source": [
    "#sns.barh('CityName', 'DataValue', data = tooth_loss_chart)\n",
    "\n",
    "sns.set(style=\"whitegrid\")\n",
    "\n",
    "# Initialize the matplotlib figure\n",
    "f, ax = plt.subplots(figsize=(12, 10))\n",
    "\n",
    "# Load the example car crash dataset\n",
    "#crashes = sns.load_dataset(\"car_crashes\").sort_values(\"total\", ascending=False)\n",
    "\n",
    "# Plot the total crashes\n",
    "sns.set_color_codes(\"pastel\")\n",
    "sns.barplot(y=\"CityName\", x=\"Data_Value\", data=tooth_loss_chart,\n",
    "            label=\"Total\", color=\"b\")\n",
    "\n",
    "# Plot the crashes where alcohol was involved\n",
    "#sns.set_color_codes(\"muted\")\n",
    "#sns.barplot(x=\"alcohol\", y=\"abbrev\", data=crashes,\n",
    "            #label=\"Alcohol-involved\", color=\"b\")\n",
    "\n",
    "# Add a legend and informative axis label\n",
    "#ax.legend(ncol=2, loc=\"lower right\", frameon=True)\n",
    "#ax.set(xlim=(0, 24), ylabel=\"\",xlabel=\"Automobile collisions per billion miles\")\n",
    "#sns.despine(left=True, bottom=True)"
   ]
  },
  {
   "cell_type": "code",
   "execution_count": 14,
   "metadata": {},
   "outputs": [
    {
     "data": {
      "text/plain": [
       "Index(['Year', 'StateAbbr', 'StateDesc', 'CityName', 'GeographicLevel',\n",
       "       'DataSource', 'Category', 'UniqueID', 'Measure', 'Data_Value_Unit',\n",
       "       'DataValueTypeID', 'Data_Value_Type', 'Data_Value',\n",
       "       'Low_Confidence_Limit', 'High_Confidence_Limit',\n",
       "       'Data_Value_Footnote_Symbol', 'Data_Value_Footnote', 'PopulationCount',\n",
       "       'GeoLocation', 'CategoryID', 'MeasureId', 'CityFIPS', 'TractFIPS',\n",
       "       'Short_Question_Text'],\n",
       "      dtype='object')"
      ]
     },
     "execution_count": 14,
     "metadata": {},
     "output_type": "execute_result"
    }
   ],
   "source": [
    "city_info_tn_teeth_loss.columns"
   ]
  },
  {
   "cell_type": "code",
   "execution_count": 15,
   "metadata": {},
   "outputs": [
    {
     "data": {
      "text/plain": [
       "(40032, 184)"
      ]
     },
     "execution_count": 15,
     "metadata": {},
     "output_type": "execute_result"
    }
   ],
   "source": [
    "smile_on.shape"
   ]
  },
  {
   "cell_type": "code",
   "execution_count": 16,
   "metadata": {},
   "outputs": [],
   "source": [
    "visits = smile_on.CallerNum.value_counts().to_frame().reset_index()"
   ]
  },
  {
   "cell_type": "code",
   "execution_count": 17,
   "metadata": {},
   "outputs": [],
   "source": [
    "combo = pd.concat([smile_on.iloc[:, 6:7],  smile_on.iloc[:, 16:21], smile_on.iloc[:, 48:49], smile_on.iloc[:, 58:60], smile_on.iloc[:, 137:138], smile_on.iloc[:, 160:161], smile_on.iloc[:, 176:177], smile_on.iloc[:, 179:182]], axis = 1)"
   ]
  },
  {
   "cell_type": "code",
   "execution_count": 19,
   "metadata": {
    "scrolled": false
   },
   "outputs": [],
   "source": [
    "#combo.sort_values(by='CallerNum').head(25)"
   ]
  },
  {
   "cell_type": "code",
   "execution_count": 20,
   "metadata": {},
   "outputs": [],
   "source": [
    "so_1 = smile_on[['CallReportNum', 'ReportVersion', 'CallerNum', 'CityName', 'CountyName', 'PostalCode', 'EnteredOn', 'Birth Year', 'SMILE ON 60+ Screening - Last Screening Date', 'SMILE ON 60+ Oral Care Encounter - What care was provided to the enrollee? (Select all that apply)', 'SMILE ON 60+ Site Information - Enroller ID', 'SMILE ON 60+ Site Information - Enroller Location', 'SMILE ON 60+ Treatment Plan - Is the treatment plan completed?', 'SMILE ON 60+ Treatment Plan - Was a treatment plan developed?', 'SMILE ON 60+ Treatment Plan - Was the enrollee able to be restored to function (can chew) and \"social six\" esthetics (top front six teeth are present and disease free)', 'SMILE ON 60+ Verification of Eligibility - Transportation Arranged', 'SMILE ON 60+ Verification of Eligibility - Verification of Eligibility']]"
   ]
  },
  {
   "cell_type": "code",
   "execution_count": 21,
   "metadata": {
    "scrolled": false
   },
   "outputs": [
    {
     "data": {
      "text/plain": [
       "37130.0    1119\n",
       "37013.0     966\n",
       "37207.0     934\n",
       "37211.0     787\n",
       "37115.0     751\n",
       "           ... \n",
       "37409.0       1\n",
       "37406.0       1\n",
       "37370.0       1\n",
       "37320.0       1\n",
       "30741.0       1\n",
       "Name: PostalCode, Length: 479, dtype: int64"
      ]
     },
     "execution_count": 21,
     "metadata": {},
     "output_type": "execute_result"
    }
   ],
   "source": [
    "so_1['PostalCode'].value_counts()"
   ]
  },
  {
   "cell_type": "code",
   "execution_count": 22,
   "metadata": {},
   "outputs": [],
   "source": [
    "so_1 = so_1.sort_values(by='CallerNum')"
   ]
  },
  {
   "cell_type": "code",
   "execution_count": 24,
   "metadata": {},
   "outputs": [],
   "source": [
    "#so_1.info()"
   ]
  },
  {
   "cell_type": "code",
   "execution_count": 26,
   "metadata": {},
   "outputs": [],
   "source": [
    "so_1 = so_1[(so_1['CallerNum'] != -1) & (so_1['CallerNum'] != -2)]\n",
    "#so_1"
   ]
  },
  {
   "cell_type": "code",
   "execution_count": 27,
   "metadata": {},
   "outputs": [],
   "source": [
    "so_1y = so_1[so_1['SMILE ON 60+ Treatment Plan - Was a treatment plan developed?'] == 'Yes']"
   ]
  },
  {
   "cell_type": "code",
   "execution_count": 29,
   "metadata": {},
   "outputs": [],
   "source": [
    "#so_1y"
   ]
  },
  {
   "cell_type": "code",
   "execution_count": 30,
   "metadata": {},
   "outputs": [
    {
     "data": {
      "text/plain": [
       "Nashville       6449\n",
       "Memphis         6304\n",
       "Murfreesboro    2435\n",
       "Cleveland       1718\n",
       "Knoxville       1461\n",
       "                ... \n",
       "Buchanan           1\n",
       "Lancing            1\n",
       "Duluth             1\n",
       "Lake City          1\n",
       "Huron              1\n",
       "Name: CityName, Length: 387, dtype: int64"
      ]
     },
     "execution_count": 30,
     "metadata": {},
     "output_type": "execute_result"
    }
   ],
   "source": [
    "so_1.CityName.value_counts()"
   ]
  },
  {
   "cell_type": "code",
   "execution_count": 31,
   "metadata": {},
   "outputs": [
    {
     "data": {
      "text/plain": [
       "Memphis         5112\n",
       "Nashville       4423\n",
       "Knoxville       2318\n",
       "Chattanooga     1634\n",
       "Clarksville     1033\n",
       "Murfreesboro     779\n",
       "Name: CityName, dtype: int64"
      ]
     },
     "execution_count": 31,
     "metadata": {},
     "output_type": "execute_result"
    }
   ],
   "source": [
    "city_info_tn.CityName.value_counts()"
   ]
  },
  {
   "cell_type": "code",
   "execution_count": 32,
   "metadata": {},
   "outputs": [
    {
     "data": {
      "text/plain": [
       "No     8123\n",
       "Yes    6149\n",
       "Name: SMILE ON 60+ Treatment Plan - Was the enrollee able to be restored to function (can chew) and \"social six\" esthetics (top front six teeth are present and disease free), dtype: int64"
      ]
     },
     "execution_count": 32,
     "metadata": {},
     "output_type": "execute_result"
    }
   ],
   "source": [
    "so_1['SMILE ON 60+ Treatment Plan - Was the enrollee able to be restored to function (can chew) and \"social six\" esthetics (top front six teeth are present and disease free)'].value_counts()"
   ]
  },
  {
   "cell_type": "code",
   "execution_count": 33,
   "metadata": {},
   "outputs": [
    {
     "data": {
      "text/plain": [
       "Interfaith Dental Clinic - Nashville                                                    5794\n",
       "Interfaith Dental Clinic - Murfreesboro                                                 3646\n",
       "Church Health Center - Memphis                                                          3581\n",
       "Matthew Walker Comprehensive Health Center Inc. - Nashville                             2516\n",
       "Interfaith Health Clinic of Knoxville - Knoxville                                       1822\n",
       "Karis Dental Clinic - Cleveland                                                         1809\n",
       "Friends in Need Health Center - Kingsport                                               1566\n",
       "Healing Hands Health Center - Bristol                                                   1345\n",
       "Keystone Dental Care Inc. - Johnson City                                                1031\n",
       "Christ Community Health Services- Hickory Hill                                           986\n",
       "Christ Community Health Services- Frayser                                                910\n",
       "Neighborhood Health - Cleveland Park/ Nashville                                          900\n",
       "Christ Community Health Services- Broad Avenue                                           777\n",
       "Matthew Walker - Clarksville                                                             658\n",
       "Christ Community Health Services- Raleigh                                                611\n",
       "Neighborhood Health - Lebanon                                                            595\n",
       "Northeast Tennessee Community Health Centers Inc. - Johnson City                         582\n",
       "Christ Community Health Services- Third Street                                           568\n",
       "Neighborhood Health - Napier/Nashville                                                   462\n",
       "Neighborhood Health - Eastside/Nashville                                                 437\n",
       "TDH - Maury Co                                                                           304\n",
       "Smiles Inc. - South Pittsburg - serving Marion Grundy Franklin and Hamilton Counties     276\n",
       "Trinity Health Ministries                                                                272\n",
       "Reelfoot Ministries - Obion                                                              235\n",
       "Appalachian Miles for Smiles - Mobile                                                    206\n",
       "TDH - Lawrence Co                                                                        203\n",
       "Knox County CAC/Office on Aging - Knoxville                                              201\n",
       "Neighborhood Health - Mission/Nashville                                                  129\n",
       "Meharry Mobile Dental Clinic                                                             124\n",
       "Mountain Hope Good Shepherd Clinic                                                        97\n",
       "Fifty Forward - Nashville                                                                 86\n",
       "Name: SMILE ON 60+ Site Information - Enroller ID, dtype: int64"
      ]
     },
     "execution_count": 33,
     "metadata": {},
     "output_type": "execute_result"
    }
   ],
   "source": [
    "so_1['SMILE ON 60+ Site Information - Enroller ID'].value_counts()"
   ]
  },
  {
   "cell_type": "code",
   "execution_count": 34,
   "metadata": {},
   "outputs": [
    {
     "data": {
      "text/plain": [
       "2441776    36\n",
       "2431132    31\n",
       "2416076    29\n",
       "2466994    28\n",
       "2860770    28\n",
       "           ..\n",
       "3200276     1\n",
       "3624167     1\n",
       "3853431     1\n",
       "2825325     1\n",
       "3827725     1\n",
       "Name: CallerNum, Length: 8706, dtype: int64"
      ]
     },
     "execution_count": 34,
     "metadata": {},
     "output_type": "execute_result"
    }
   ],
   "source": [
    "so_1.CallerNum.value_counts()"
   ]
  },
  {
   "cell_type": "code",
   "execution_count": 36,
   "metadata": {},
   "outputs": [],
   "source": [
    "so_2441776 = so_1[so_1['CallerNum'] == 2441776]\n",
    "#so_2441776"
   ]
  },
  {
   "cell_type": "code",
   "execution_count": 38,
   "metadata": {},
   "outputs": [],
   "source": [
    "so_2431132 = so_1[so_1['CallerNum'] == 2431132]\n",
    "#so_2431132"
   ]
  },
  {
   "cell_type": "code",
   "execution_count": 39,
   "metadata": {},
   "outputs": [],
   "source": [
    "prodcedure_types = smile_on['SMILE ON 60+ Oral Care Encounter - What care was provided to the enrollee? (Select all that apply)'].value_counts().to_frame().reset_index()"
   ]
  },
  {
   "cell_type": "code",
   "execution_count": 41,
   "metadata": {},
   "outputs": [],
   "source": [
    "#prodcedure_types.head(20)"
   ]
  },
  {
   "cell_type": "code",
   "execution_count": 42,
   "metadata": {},
   "outputs": [],
   "source": [
    "interfaith = so_1[so_1['SMILE ON 60+ Site Information - Enroller ID'].str.contains('Interfaith Dental Clinic - Murfreesboro', na = False)]"
   ]
  },
  {
   "cell_type": "code",
   "execution_count": 44,
   "metadata": {},
   "outputs": [],
   "source": [
    "#interfaith"
   ]
  },
  {
   "cell_type": "code",
   "execution_count": 45,
   "metadata": {},
   "outputs": [
    {
     "data": {
      "text/plain": [
       "Yes    22462\n",
       "No     10770\n",
       "Name: SMILE ON 60+ Base-line Oral and Conditions Questions - Have you ever felt that the appearance of your mouth and teeth affected your quality of life?, dtype: int64"
      ]
     },
     "execution_count": 45,
     "metadata": {},
     "output_type": "execute_result"
    }
   ],
   "source": [
    "smile_on['SMILE ON 60+ Base-line Oral and Conditions Questions - Have you ever felt that the appearance of your mouth and teeth affected your quality of life?'].value_counts()"
   ]
  },
  {
   "cell_type": "code",
   "execution_count": 46,
   "metadata": {},
   "outputs": [],
   "source": [
    "clinical = so_1[so_1['ReportVersion'] == 'SMILE ON 60+ Clinical']"
   ]
  },
  {
   "cell_type": "code",
   "execution_count": 49,
   "metadata": {},
   "outputs": [],
   "source": [
    "#clinical.columns"
   ]
  },
  {
   "cell_type": "code",
   "execution_count": 50,
   "metadata": {},
   "outputs": [],
   "source": [
    "patients = so_1.drop_duplicates(['CallerNum'], keep='first')"
   ]
  },
  {
   "cell_type": "code",
   "execution_count": 51,
   "metadata": {},
   "outputs": [
    {
     "data": {
      "text/plain": [
       "Church Health Center - Memphis                                                          799\n",
       "Interfaith Dental Clinic - Nashville                                                    738\n",
       "Matthew Walker Comprehensive Health Center Inc. - Nashville                             514\n",
       "Interfaith Dental Clinic - Murfreesboro                                                 485\n",
       "Interfaith Health Clinic of Knoxville - Knoxville                                       326\n",
       "Karis Dental Clinic - Cleveland                                                         285\n",
       "Healing Hands Health Center - Bristol                                                   280\n",
       "Keystone Dental Care Inc. - Johnson City                                                262\n",
       "Friends in Need Health Center - Kingsport                                               247\n",
       "Christ Community Health Services- Hickory Hill                                          193\n",
       "Christ Community Health Services- Frayser                                               180\n",
       "Christ Community Health Services- Broad Avenue                                          179\n",
       "Matthew Walker - Clarksville                                                            129\n",
       "Christ Community Health Services- Raleigh                                               123\n",
       "Neighborhood Health - Cleveland Park/ Nashville                                         121\n",
       "Christ Community Health Services- Third Street                                          108\n",
       "Northeast Tennessee Community Health Centers Inc. - Johnson City                        107\n",
       "Neighborhood Health - Lebanon                                                            87\n",
       "Reelfoot Ministries - Obion                                                              81\n",
       "Appalachian Miles for Smiles - Mobile                                                    77\n",
       "Knox County CAC/Office on Aging - Knoxville                                              66\n",
       "Neighborhood Health - Napier/Nashville                                                   60\n",
       "Trinity Health Ministries                                                                60\n",
       "Neighborhood Health - Eastside/Nashville                                                 60\n",
       "Smiles Inc. - South Pittsburg - serving Marion Grundy Franklin and Hamilton Counties     58\n",
       "Meharry Mobile Dental Clinic                                                             44\n",
       "TDH - Maury Co                                                                           42\n",
       "TDH - Lawrence Co                                                                        39\n",
       "Mountain Hope Good Shepherd Clinic                                                       27\n",
       "Fifty Forward - Nashville                                                                23\n",
       "Neighborhood Health - Mission/Nashville                                                  21\n",
       "Name: SMILE ON 60+ Site Information - Enroller ID, dtype: int64"
      ]
     },
     "execution_count": 51,
     "metadata": {},
     "output_type": "execute_result"
    }
   ],
   "source": [
    "patients['SMILE ON 60+ Site Information - Enroller ID'].value_counts()"
   ]
  },
  {
   "cell_type": "code",
   "execution_count": 52,
   "metadata": {},
   "outputs": [
    {
     "data": {
      "text/plain": [
       "(8706, 17)"
      ]
     },
     "execution_count": 52,
     "metadata": {},
     "output_type": "execute_result"
    }
   ],
   "source": [
    "patients.shape"
   ]
  },
  {
   "cell_type": "code",
   "execution_count": 54,
   "metadata": {},
   "outputs": [],
   "source": [
    "so_1.columns=['CallReportNum', 'ReportVersion', 'CallerNum', 'CityName', 'CountyName',\n",
    "       'PostalCode', 'EnteredOn', 'Birth Year',\n",
    "       'Screening - Last Screening Date',\n",
    "       'Oral Care Encounter - What care was provided to the enrollee?',\n",
    "       'Site Information - Enroller ID',\n",
    "       'Site Information - Enroller Location',\n",
    "       'Treatment Plan - Is the treatment plan completed?',\n",
    "       'Treatment Plan - Was a treatment plan developed?',\n",
    "       'Treatment Plan - Was the enrollee able to be restored to function',\n",
    "       'Verification of Eligibility Transportation Arranged',\n",
    "       'Verification of Eligibility']\n",
    "#so_1.columns"
   ]
  },
  {
   "cell_type": "code",
   "execution_count": 55,
   "metadata": {},
   "outputs": [],
   "source": [
    "treatment_plan = so_1[so_1['Treatment Plan - Is the treatment plan completed?'] == 'Yes']"
   ]
  },
  {
   "cell_type": "code",
   "execution_count": 56,
   "metadata": {},
   "outputs": [],
   "source": [
    "treatment_plan = treatment_plan.sort_values(by = 'EnteredOn')"
   ]
  },
  {
   "cell_type": "code",
   "execution_count": 57,
   "metadata": {},
   "outputs": [
    {
     "data": {
      "text/plain": [
       "(2987, 17)"
      ]
     },
     "execution_count": 57,
     "metadata": {},
     "output_type": "execute_result"
    }
   ],
   "source": [
    "treatment_plan_patients = treatment_plan.drop_duplicates(['CallerNum'], keep='last')\n",
    "treatment_plan_patients.shape"
   ]
  },
  {
   "cell_type": "code",
   "execution_count": 58,
   "metadata": {},
   "outputs": [
    {
     "data": {
      "text/plain": [
       "Church Health Center - Memphis                                                          385\n",
       "Interfaith Dental Clinic - Nashville                                                    370\n",
       "Interfaith Dental Clinic - Murfreesboro                                                 251\n",
       "Healing Hands Health Center - Bristol                                                   224\n",
       "Interfaith Health Clinic of Knoxville - Knoxville                                       216\n",
       "Keystone Dental Care Inc. - Johnson City                                                194\n",
       "Friends in Need Health Center - Kingsport                                               193\n",
       "Matthew Walker Comprehensive Health Center Inc. - Nashville                             189\n",
       "Karis Dental Clinic - Cleveland                                                         180\n",
       "Christ Community Health Services- Hickory Hill                                          101\n",
       "Appalachian Miles for Smiles - Mobile                                                    86\n",
       "Northeast Tennessee Community Health Centers Inc. - Johnson City                         76\n",
       "Christ Community Health Services- Third Street                                           69\n",
       "Christ Community Health Services- Raleigh                                                66\n",
       "Matthew Walker - Clarksville                                                             44\n",
       "Neighborhood Health - Cleveland Park/ Nashville                                          38\n",
       "Christ Community Health Services- Broad Avenue                                           37\n",
       "Neighborhood Health - Eastside/Nashville                                                 35\n",
       "Reelfoot Ministries - Obion                                                              34\n",
       "Christ Community Health Services- Frayser                                                33\n",
       "Trinity Health Ministries                                                                32\n",
       "Neighborhood Health - Lebanon                                                            31\n",
       "Neighborhood Health - Napier/Nashville                                                   29\n",
       "Smiles Inc. - South Pittsburg - serving Marion Grundy Franklin and Hamilton Counties     29\n",
       "TDH - Lawrence Co                                                                        14\n",
       "Mountain Hope Good Shepherd Clinic                                                       11\n",
       "Neighborhood Health - Mission/Nashville                                                   8\n",
       "TDH - Maury Co                                                                            6\n",
       "Meharry Mobile Dental Clinic                                                              5\n",
       "Name: Site Information - Enroller ID, dtype: int64"
      ]
     },
     "execution_count": 58,
     "metadata": {},
     "output_type": "execute_result"
    }
   ],
   "source": [
    "treatment_plan_patients['Site Information - Enroller ID'].value_counts()"
   ]
  },
  {
   "cell_type": "code",
   "execution_count": 59,
   "metadata": {},
   "outputs": [],
   "source": [
    "treatment_plan_patients_restored = treatment_plan_patients[treatment_plan_patients['Treatment Plan - Was the enrollee able to be restored to function'] == 'Yes']"
   ]
  },
  {
   "cell_type": "code",
   "execution_count": 61,
   "metadata": {},
   "outputs": [],
   "source": [
    "#treatment_plan_patients_restored"
   ]
  },
  {
   "cell_type": "code",
   "execution_count": 62,
   "metadata": {},
   "outputs": [],
   "source": [
    "treatment_plan_patients_not_restored = treatment_plan_patients[treatment_plan_patients['Treatment Plan - Was the enrollee able to be restored to function'] == 'No']"
   ]
  },
  {
   "cell_type": "code",
   "execution_count": 64,
   "metadata": {
    "scrolled": true
   },
   "outputs": [],
   "source": [
    "#treatment_plan_patients_not_restored"
   ]
  },
  {
   "cell_type": "code",
   "execution_count": 65,
   "metadata": {},
   "outputs": [
    {
     "data": {
      "text/plain": [
       "248"
      ]
     },
     "execution_count": 65,
     "metadata": {},
     "output_type": "execute_result"
    }
   ],
   "source": [
    "treatment_plan_patients['Treatment Plan - Was the enrollee able to be restored to function'].isnull().sum()"
   ]
  },
  {
   "cell_type": "code",
   "execution_count": 66,
   "metadata": {},
   "outputs": [],
   "source": [
    "so_1_clinics = so_1[so_1['Treatment Plan - Was the enrollee able to be restored to function'].isnull()]"
   ]
  },
  {
   "cell_type": "code",
   "execution_count": 67,
   "metadata": {},
   "outputs": [
    {
     "data": {
      "text/plain": [
       "Interfaith Dental Clinic - Nashville                                                    3567\n",
       "Church Health Center - Memphis                                                          2259\n",
       "Interfaith Dental Clinic - Murfreesboro                                                 2235\n",
       "Christ Community Health Services- Frayser                                                767\n",
       "Interfaith Health Clinic of Knoxville - Knoxville                                        752\n",
       "Healing Hands Health Center - Bristol                                                    739\n",
       "Karis Dental Clinic - Cleveland                                                          730\n",
       "Friends in Need Health Center - Kingsport                                                727\n",
       "Neighborhood Health - Cleveland Park/ Nashville                                          712\n",
       "Matthew Walker Comprehensive Health Center Inc. - Nashville                              685\n",
       "Keystone Dental Care Inc. - Johnson City                                                 513\n",
       "Neighborhood Health - Lebanon                                                            496\n",
       "Christ Community Health Services- Raleigh                                                402\n",
       "Christ Community Health Services- Broad Avenue                                           387\n",
       "Neighborhood Health - Napier/Nashville                                                   383\n",
       "Northeast Tennessee Community Health Centers Inc. - Johnson City                         346\n",
       "Christ Community Health Services- Hickory Hill                                           316\n",
       "Neighborhood Health - Eastside/Nashville                                                 307\n",
       "Christ Community Health Services- Third Street                                           300\n",
       "TDH - Maury Co                                                                           282\n",
       "Matthew Walker - Clarksville                                                             243\n",
       "Knox County CAC/Office on Aging - Knoxville                                              201\n",
       "Reelfoot Ministries - Obion                                                              193\n",
       "Appalachian Miles for Smiles - Mobile                                                    174\n",
       "Smiles Inc. - South Pittsburg - serving Marion Grundy Franklin and Hamilton Counties     137\n",
       "Trinity Health Ministries                                                                131\n",
       "Neighborhood Health - Mission/Nashville                                                  109\n",
       "Meharry Mobile Dental Clinic                                                             107\n",
       "TDH - Lawrence Co                                                                         94\n",
       "Fifty Forward - Nashville                                                                 86\n",
       "Mountain Hope Good Shepherd Clinic                                                        81\n",
       "Name: Site Information - Enroller ID, dtype: int64"
      ]
     },
     "execution_count": 67,
     "metadata": {},
     "output_type": "execute_result"
    }
   ],
   "source": [
    "so_1_clinics['Site Information - Enroller ID'].value_counts()"
   ]
  },
  {
   "cell_type": "code",
   "execution_count": 68,
   "metadata": {},
   "outputs": [
    {
     "data": {
      "text/plain": [
       "Interfaith Dental Clinic - Nashville                                                    5794\n",
       "Interfaith Dental Clinic - Murfreesboro                                                 3646\n",
       "Church Health Center - Memphis                                                          3581\n",
       "Matthew Walker Comprehensive Health Center Inc. - Nashville                             2516\n",
       "Interfaith Health Clinic of Knoxville - Knoxville                                       1822\n",
       "Karis Dental Clinic - Cleveland                                                         1809\n",
       "Friends in Need Health Center - Kingsport                                               1566\n",
       "Healing Hands Health Center - Bristol                                                   1345\n",
       "Keystone Dental Care Inc. - Johnson City                                                1031\n",
       "Christ Community Health Services- Hickory Hill                                           986\n",
       "Christ Community Health Services- Frayser                                                910\n",
       "Neighborhood Health - Cleveland Park/ Nashville                                          900\n",
       "Christ Community Health Services- Broad Avenue                                           777\n",
       "Matthew Walker - Clarksville                                                             658\n",
       "Christ Community Health Services- Raleigh                                                611\n",
       "Neighborhood Health - Lebanon                                                            595\n",
       "Northeast Tennessee Community Health Centers Inc. - Johnson City                         582\n",
       "Christ Community Health Services- Third Street                                           568\n",
       "Neighborhood Health - Napier/Nashville                                                   462\n",
       "Neighborhood Health - Eastside/Nashville                                                 437\n",
       "TDH - Maury Co                                                                           304\n",
       "Smiles Inc. - South Pittsburg - serving Marion Grundy Franklin and Hamilton Counties     276\n",
       "Trinity Health Ministries                                                                272\n",
       "Reelfoot Ministries - Obion                                                              235\n",
       "Appalachian Miles for Smiles - Mobile                                                    206\n",
       "TDH - Lawrence Co                                                                        203\n",
       "Knox County CAC/Office on Aging - Knoxville                                              201\n",
       "Neighborhood Health - Mission/Nashville                                                  129\n",
       "Meharry Mobile Dental Clinic                                                             124\n",
       "Mountain Hope Good Shepherd Clinic                                                        97\n",
       "Fifty Forward - Nashville                                                                 86\n",
       "Name: Site Information - Enroller ID, dtype: int64"
      ]
     },
     "execution_count": 68,
     "metadata": {},
     "output_type": "execute_result"
    }
   ],
   "source": [
    "so_1['Site Information - Enroller ID'].value_counts()"
   ]
  },
  {
   "cell_type": "code",
   "execution_count": 69,
   "metadata": {},
   "outputs": [
    {
     "name": "stderr",
     "output_type": "stream",
     "text": [
      "<ipython-input-69-dea99bf5ca59>:2: UserWarning: Boolean Series key will be reindexed to match DataFrame index.\n",
      "  patients_restored = patients_restored[(patients_restored['CallerNum'] != -1) & (so_1['CallerNum'] != -2)]\n"
     ]
    }
   ],
   "source": [
    "patients_restored = so_1[so_1['Treatment Plan - Was the enrollee able to be restored to function'].isin(['Yes', 'No'])]\n",
    "patients_restored = patients_restored[(patients_restored['CallerNum'] != -1) & (so_1['CallerNum'] != -2)]"
   ]
  },
  {
   "cell_type": "code",
   "execution_count": 70,
   "metadata": {},
   "outputs": [],
   "source": [
    "patients_restored = patients_restored.sort_values(by = 'EnteredOn')"
   ]
  },
  {
   "cell_type": "code",
   "execution_count": 71,
   "metadata": {},
   "outputs": [
    {
     "data": {
      "text/plain": [
       "(4575, 17)"
      ]
     },
     "execution_count": 71,
     "metadata": {},
     "output_type": "execute_result"
    }
   ],
   "source": [
    "patients_restored = patients_restored.drop_duplicates(['CallerNum'], keep='last')\n",
    "patients_restored.shape"
   ]
  },
  {
   "cell_type": "code",
   "execution_count": 72,
   "metadata": {},
   "outputs": [
    {
     "data": {
      "text/plain": [
       "Yes    2488\n",
       "No     2087\n",
       "Name: Treatment Plan - Was the enrollee able to be restored to function, dtype: int64"
      ]
     },
     "execution_count": 72,
     "metadata": {},
     "output_type": "execute_result"
    }
   ],
   "source": [
    "patients_restored['Treatment Plan - Was the enrollee able to be restored to function'].value_counts()"
   ]
  },
  {
   "cell_type": "code",
   "execution_count": 73,
   "metadata": {},
   "outputs": [
    {
     "data": {
      "text/plain": [
       "54.38251366120218"
      ]
     },
     "execution_count": 73,
     "metadata": {},
     "output_type": "execute_result"
    }
   ],
   "source": [
    "(2488/(2488 + 2087)) * 100"
   ]
  },
  {
   "cell_type": "code",
   "execution_count": 74,
   "metadata": {},
   "outputs": [],
   "source": [
    "patients_restored_yes = patients_restored[patients_restored['Treatment Plan - Was the enrollee able to be restored to function'] == 'Yes']\n",
    "patients_restored_no = patients_restored[patients_restored['Treatment Plan - Was the enrollee able to be restored to function'] == 'No']"
   ]
  },
  {
   "cell_type": "code",
   "execution_count": 75,
   "metadata": {},
   "outputs": [],
   "source": [
    "yes = patients_restored_yes['Site Information - Enroller ID'].value_counts().to_frame().reset_index()"
   ]
  },
  {
   "cell_type": "code",
   "execution_count": 76,
   "metadata": {},
   "outputs": [
    {
     "data": {
      "text/html": [
       "<div>\n",
       "<style scoped>\n",
       "    .dataframe tbody tr th:only-of-type {\n",
       "        vertical-align: middle;\n",
       "    }\n",
       "\n",
       "    .dataframe tbody tr th {\n",
       "        vertical-align: top;\n",
       "    }\n",
       "\n",
       "    .dataframe thead th {\n",
       "        text-align: right;\n",
       "    }\n",
       "</style>\n",
       "<table border=\"1\" class=\"dataframe\">\n",
       "  <thead>\n",
       "    <tr style=\"text-align: right;\">\n",
       "      <th></th>\n",
       "      <th>index</th>\n",
       "      <th>Site Information - Enroller ID</th>\n",
       "    </tr>\n",
       "  </thead>\n",
       "  <tbody>\n",
       "    <tr>\n",
       "      <th>0</th>\n",
       "      <td>Church Health Center - Memphis</td>\n",
       "      <td>347</td>\n",
       "    </tr>\n",
       "    <tr>\n",
       "      <th>1</th>\n",
       "      <td>Interfaith Dental Clinic - Nashville</td>\n",
       "      <td>346</td>\n",
       "    </tr>\n",
       "    <tr>\n",
       "      <th>2</th>\n",
       "      <td>Interfaith Dental Clinic - Murfreesboro</td>\n",
       "      <td>233</td>\n",
       "    </tr>\n",
       "    <tr>\n",
       "      <th>3</th>\n",
       "      <td>Healing Hands Health Center - Bristol</td>\n",
       "      <td>188</td>\n",
       "    </tr>\n",
       "    <tr>\n",
       "      <th>4</th>\n",
       "      <td>Friends in Need Health Center - Kingsport</td>\n",
       "      <td>171</td>\n",
       "    </tr>\n",
       "    <tr>\n",
       "      <th>5</th>\n",
       "      <td>Matthew Walker Comprehensive Health Center Inc...</td>\n",
       "      <td>159</td>\n",
       "    </tr>\n",
       "    <tr>\n",
       "      <th>6</th>\n",
       "      <td>Keystone Dental Care Inc. - Johnson City</td>\n",
       "      <td>156</td>\n",
       "    </tr>\n",
       "    <tr>\n",
       "      <th>7</th>\n",
       "      <td>Interfaith Health Clinic of Knoxville - Knoxville</td>\n",
       "      <td>132</td>\n",
       "    </tr>\n",
       "    <tr>\n",
       "      <th>8</th>\n",
       "      <td>Karis Dental Clinic - Cleveland</td>\n",
       "      <td>131</td>\n",
       "    </tr>\n",
       "    <tr>\n",
       "      <th>9</th>\n",
       "      <td>Christ Community Health Services- Raleigh</td>\n",
       "      <td>63</td>\n",
       "    </tr>\n",
       "    <tr>\n",
       "      <th>10</th>\n",
       "      <td>Northeast Tennessee Community Health Centers I...</td>\n",
       "      <td>62</td>\n",
       "    </tr>\n",
       "    <tr>\n",
       "      <th>11</th>\n",
       "      <td>Christ Community Health Services- Broad Avenue</td>\n",
       "      <td>62</td>\n",
       "    </tr>\n",
       "    <tr>\n",
       "      <th>12</th>\n",
       "      <td>Christ Community Health Services- Third Street</td>\n",
       "      <td>60</td>\n",
       "    </tr>\n",
       "    <tr>\n",
       "      <th>13</th>\n",
       "      <td>Christ Community Health Services- Hickory Hill</td>\n",
       "      <td>51</td>\n",
       "    </tr>\n",
       "    <tr>\n",
       "      <th>14</th>\n",
       "      <td>Christ Community Health Services- Frayser</td>\n",
       "      <td>48</td>\n",
       "    </tr>\n",
       "    <tr>\n",
       "      <th>15</th>\n",
       "      <td>Neighborhood Health - Cleveland Park/ Nashville</td>\n",
       "      <td>36</td>\n",
       "    </tr>\n",
       "    <tr>\n",
       "      <th>16</th>\n",
       "      <td>Neighborhood Health - Eastside/Nashville</td>\n",
       "      <td>30</td>\n",
       "    </tr>\n",
       "    <tr>\n",
       "      <th>17</th>\n",
       "      <td>Appalachian Miles for Smiles - Mobile</td>\n",
       "      <td>29</td>\n",
       "    </tr>\n",
       "    <tr>\n",
       "      <th>18</th>\n",
       "      <td>Trinity Health Ministries</td>\n",
       "      <td>26</td>\n",
       "    </tr>\n",
       "    <tr>\n",
       "      <th>19</th>\n",
       "      <td>Reelfoot Ministries - Obion</td>\n",
       "      <td>24</td>\n",
       "    </tr>\n",
       "    <tr>\n",
       "      <th>20</th>\n",
       "      <td>Smiles Inc. - South Pittsburg - serving Marion...</td>\n",
       "      <td>24</td>\n",
       "    </tr>\n",
       "    <tr>\n",
       "      <th>21</th>\n",
       "      <td>Neighborhood Health - Lebanon</td>\n",
       "      <td>23</td>\n",
       "    </tr>\n",
       "    <tr>\n",
       "      <th>22</th>\n",
       "      <td>Matthew Walker - Clarksville</td>\n",
       "      <td>21</td>\n",
       "    </tr>\n",
       "    <tr>\n",
       "      <th>23</th>\n",
       "      <td>Neighborhood Health - Napier/Nashville</td>\n",
       "      <td>19</td>\n",
       "    </tr>\n",
       "    <tr>\n",
       "      <th>24</th>\n",
       "      <td>TDH - Lawrence Co</td>\n",
       "      <td>13</td>\n",
       "    </tr>\n",
       "    <tr>\n",
       "      <th>25</th>\n",
       "      <td>Mountain Hope Good Shepherd Clinic</td>\n",
       "      <td>12</td>\n",
       "    </tr>\n",
       "    <tr>\n",
       "      <th>26</th>\n",
       "      <td>TDH - Maury Co</td>\n",
       "      <td>10</td>\n",
       "    </tr>\n",
       "    <tr>\n",
       "      <th>27</th>\n",
       "      <td>Neighborhood Health - Mission/Nashville</td>\n",
       "      <td>8</td>\n",
       "    </tr>\n",
       "    <tr>\n",
       "      <th>28</th>\n",
       "      <td>Meharry Mobile Dental Clinic</td>\n",
       "      <td>3</td>\n",
       "    </tr>\n",
       "  </tbody>\n",
       "</table>\n",
       "</div>"
      ],
      "text/plain": [
       "                                                index  \\\n",
       "0                      Church Health Center - Memphis   \n",
       "1                Interfaith Dental Clinic - Nashville   \n",
       "2             Interfaith Dental Clinic - Murfreesboro   \n",
       "3               Healing Hands Health Center - Bristol   \n",
       "4           Friends in Need Health Center - Kingsport   \n",
       "5   Matthew Walker Comprehensive Health Center Inc...   \n",
       "6            Keystone Dental Care Inc. - Johnson City   \n",
       "7   Interfaith Health Clinic of Knoxville - Knoxville   \n",
       "8                     Karis Dental Clinic - Cleveland   \n",
       "9           Christ Community Health Services- Raleigh   \n",
       "10  Northeast Tennessee Community Health Centers I...   \n",
       "11     Christ Community Health Services- Broad Avenue   \n",
       "12     Christ Community Health Services- Third Street   \n",
       "13     Christ Community Health Services- Hickory Hill   \n",
       "14          Christ Community Health Services- Frayser   \n",
       "15    Neighborhood Health - Cleveland Park/ Nashville   \n",
       "16           Neighborhood Health - Eastside/Nashville   \n",
       "17              Appalachian Miles for Smiles - Mobile   \n",
       "18                         Trinity Health Ministries    \n",
       "19                        Reelfoot Ministries - Obion   \n",
       "20  Smiles Inc. - South Pittsburg - serving Marion...   \n",
       "21                      Neighborhood Health - Lebanon   \n",
       "22                       Matthew Walker - Clarksville   \n",
       "23             Neighborhood Health - Napier/Nashville   \n",
       "24                                  TDH - Lawrence Co   \n",
       "25                 Mountain Hope Good Shepherd Clinic   \n",
       "26                                     TDH - Maury Co   \n",
       "27            Neighborhood Health - Mission/Nashville   \n",
       "28                       Meharry Mobile Dental Clinic   \n",
       "\n",
       "    Site Information - Enroller ID  \n",
       "0                              347  \n",
       "1                              346  \n",
       "2                              233  \n",
       "3                              188  \n",
       "4                              171  \n",
       "5                              159  \n",
       "6                              156  \n",
       "7                              132  \n",
       "8                              131  \n",
       "9                               63  \n",
       "10                              62  \n",
       "11                              62  \n",
       "12                              60  \n",
       "13                              51  \n",
       "14                              48  \n",
       "15                              36  \n",
       "16                              30  \n",
       "17                              29  \n",
       "18                              26  \n",
       "19                              24  \n",
       "20                              24  \n",
       "21                              23  \n",
       "22                              21  \n",
       "23                              19  \n",
       "24                              13  \n",
       "25                              12  \n",
       "26                              10  \n",
       "27                               8  \n",
       "28                               3  "
      ]
     },
     "execution_count": 76,
     "metadata": {},
     "output_type": "execute_result"
    }
   ],
   "source": [
    "yes"
   ]
  },
  {
   "cell_type": "code",
   "execution_count": 77,
   "metadata": {},
   "outputs": [],
   "source": [
    "no = patients_restored_no['Site Information - Enroller ID'].value_counts().to_frame().reset_index()"
   ]
  },
  {
   "cell_type": "code",
   "execution_count": 78,
   "metadata": {},
   "outputs": [],
   "source": [
    "combo = pd.merge(yes, no, on = 'index')"
   ]
  },
  {
   "cell_type": "code",
   "execution_count": 79,
   "metadata": {},
   "outputs": [],
   "source": [
    "combo['total'] = combo['Site Information - Enroller ID_x'] + combo['Site Information - Enroller ID_y']"
   ]
  },
  {
   "cell_type": "code",
   "execution_count": 80,
   "metadata": {},
   "outputs": [],
   "source": [
    "combo['percentage'] = (combo['Site Information - Enroller ID_x']/combo['total'])*100"
   ]
  },
  {
   "cell_type": "code",
   "execution_count": 81,
   "metadata": {},
   "outputs": [],
   "source": [
    "combo.columns = ['location', 'restored_yes', 'restored_no', 'total', 'percentage' ]"
   ]
  },
  {
   "cell_type": "code",
   "execution_count": 82,
   "metadata": {},
   "outputs": [],
   "source": [
    "combo = combo.head()"
   ]
  },
  {
   "cell_type": "code",
   "execution_count": 83,
   "metadata": {},
   "outputs": [],
   "source": [
    "smile_on_household = smile_on['SMILE ON 60+ Demographic Information - # of People in Household']"
   ]
  },
  {
   "cell_type": "code",
   "execution_count": 84,
   "metadata": {},
   "outputs": [],
   "source": [
    "smile_on_household = smile_on_household.dropna().to_frame()"
   ]
  },
  {
   "cell_type": "code",
   "execution_count": 85,
   "metadata": {},
   "outputs": [
    {
     "data": {
      "text/html": [
       "<div>\n",
       "<style scoped>\n",
       "    .dataframe tbody tr th:only-of-type {\n",
       "        vertical-align: middle;\n",
       "    }\n",
       "\n",
       "    .dataframe tbody tr th {\n",
       "        vertical-align: top;\n",
       "    }\n",
       "\n",
       "    .dataframe thead th {\n",
       "        text-align: right;\n",
       "    }\n",
       "</style>\n",
       "<table border=\"1\" class=\"dataframe\">\n",
       "  <thead>\n",
       "    <tr style=\"text-align: right;\">\n",
       "      <th></th>\n",
       "      <th>SMILE ON 60+ Demographic Information - # of People in Household</th>\n",
       "    </tr>\n",
       "  </thead>\n",
       "  <tbody>\n",
       "    <tr>\n",
       "      <th>0</th>\n",
       "      <td>1</td>\n",
       "    </tr>\n",
       "    <tr>\n",
       "      <th>1</th>\n",
       "      <td>1</td>\n",
       "    </tr>\n",
       "    <tr>\n",
       "      <th>2</th>\n",
       "      <td>1</td>\n",
       "    </tr>\n",
       "    <tr>\n",
       "      <th>3</th>\n",
       "      <td>2</td>\n",
       "    </tr>\n",
       "    <tr>\n",
       "      <th>5</th>\n",
       "      <td>1</td>\n",
       "    </tr>\n",
       "    <tr>\n",
       "      <th>...</th>\n",
       "      <td>...</td>\n",
       "    </tr>\n",
       "    <tr>\n",
       "      <th>40024</th>\n",
       "      <td>2</td>\n",
       "    </tr>\n",
       "    <tr>\n",
       "      <th>40025</th>\n",
       "      <td>2</td>\n",
       "    </tr>\n",
       "    <tr>\n",
       "      <th>40026</th>\n",
       "      <td>1</td>\n",
       "    </tr>\n",
       "    <tr>\n",
       "      <th>40028</th>\n",
       "      <td>1</td>\n",
       "    </tr>\n",
       "    <tr>\n",
       "      <th>40029</th>\n",
       "      <td>1</td>\n",
       "    </tr>\n",
       "  </tbody>\n",
       "</table>\n",
       "<p>38709 rows × 1 columns</p>\n",
       "</div>"
      ],
      "text/plain": [
       "      SMILE ON 60+ Demographic Information - # of People in Household\n",
       "0                                                      1             \n",
       "1                                                      1             \n",
       "2                                                      1             \n",
       "3                                                      2             \n",
       "5                                                      1             \n",
       "...                                                  ...             \n",
       "40024                                                  2             \n",
       "40025                                                  2             \n",
       "40026                                                  1             \n",
       "40028                                                  1             \n",
       "40029                                                  1             \n",
       "\n",
       "[38709 rows x 1 columns]"
      ]
     },
     "execution_count": 85,
     "metadata": {},
     "output_type": "execute_result"
    }
   ],
   "source": [
    "#pd.set_option('display.max_rows', 40029)\n",
    "smile_on_household"
   ]
  },
  {
   "cell_type": "code",
   "execution_count": 86,
   "metadata": {},
   "outputs": [
    {
     "data": {
      "text/plain": [
       "1        24249\n",
       "2        10383\n",
       "3         2038\n",
       "4         1051\n",
       "5          563\n",
       "6          178\n",
       "7          111\n",
       "8           53\n",
       "0           27\n",
       "112         26\n",
       "9           13\n",
       "2864        11\n",
       "1886         3\n",
       "8368         1\n",
       "13900        1\n",
       "             1\n",
       "Name: SMILE ON 60+ Demographic Information - # of People in Household, dtype: int64"
      ]
     },
     "execution_count": 86,
     "metadata": {},
     "output_type": "execute_result"
    }
   ],
   "source": [
    "smile_on_household['SMILE ON 60+ Demographic Information - # of People in Household'] = smile_on_household['SMILE ON 60+ Demographic Information - # of People in Household'].map(lambda x: x.rstrip('_____'))\n",
    "smile_on_household['SMILE ON 60+ Demographic Information - # of People in Household'].value_counts()"
   ]
  },
  {
   "cell_type": "code",
   "execution_count": 87,
   "metadata": {
    "scrolled": true
   },
   "outputs": [
    {
     "data": {
      "text/plain": [
       "<BarContainer object of 5 artists>"
      ]
     },
     "execution_count": 87,
     "metadata": {},
     "output_type": "execute_result"
    },
    {
     "data": {
      "image/png": "[encoded data removed]",
      "text/plain": [
       "<Figure size 432x288 with 1 Axes>"
      ]
     },
     "metadata": {},
     "output_type": "display_data"
    }
   ],
   "source": [
    "plt.barh('location', 'percentage', data = combo)"
   ]
  },
  {
   "cell_type": "code",
   "execution_count": 88,
   "metadata": {},
   "outputs": [
    {
     "data": {
      "image/png": "[encoded data removed]",
      "text/plain": [
       "<Figure size 720x432 with 2 Axes>"
      ]
     },
     "metadata": {},
     "output_type": "display_data"
    }
   ],
   "source": [
    "fig, ax1 = plt.subplots(figsize=(10,6))\n",
    "color = 'tab:green'\n",
    "ax1.set_title('Average Percipitation Percentage by Month', fontsize=16)\n",
    "ax1.set_xlabel('Month', fontsize=16)\n",
    "ax1.set_ylabel('Avg Temp', fontsize=16, color=color)\n",
    "ax2 = sns.barplot(x='location', y='restored_yes', data = combo , palette='summer')\n",
    "ax1.tick_params(axis='y')\n",
    "ax2 = ax1.twinx()\n",
    "color = 'tab:red'\n",
    "ax2.set_ylabel('Avg Percipitation %', fontsize=16, color=color)\n",
    "ax2 = sns.lineplot(x='location', y='percentage', data = combo, sort=False, color=color)\n",
    "ax2.tick_params(axis='y', color=color)\n",
    "plt.show()"
   ]
  },
  {
   "cell_type": "code",
   "execution_count": 91,
   "metadata": {},
   "outputs": [
    {
     "data": {
      "text/html": [
       "<div>\n",
       "<style scoped>\n",
       "    .dataframe tbody tr th:only-of-type {\n",
       "        vertical-align: middle;\n",
       "    }\n",
       "\n",
       "    .dataframe tbody tr th {\n",
       "        vertical-align: top;\n",
       "    }\n",
       "\n",
       "    .dataframe thead th {\n",
       "        text-align: right;\n",
       "    }\n",
       "</style>\n",
       "<table border=\"1\" class=\"dataframe\">\n",
       "  <thead>\n",
       "    <tr style=\"text-align: right;\">\n",
       "      <th></th>\n",
       "      <th>location</th>\n",
       "      <th>restored_yes</th>\n",
       "      <th>restored_no</th>\n",
       "      <th>total</th>\n",
       "      <th>percentage</th>\n",
       "    </tr>\n",
       "  </thead>\n",
       "  <tbody>\n",
       "    <tr>\n",
       "      <th>0</th>\n",
       "      <td>Church Health Center - Memphis</td>\n",
       "      <td>347</td>\n",
       "      <td>170</td>\n",
       "      <td>517</td>\n",
       "      <td>67.117988</td>\n",
       "    </tr>\n",
       "    <tr>\n",
       "      <th>1</th>\n",
       "      <td>Interfaith Dental Clinic - Nashville</td>\n",
       "      <td>346</td>\n",
       "      <td>276</td>\n",
       "      <td>622</td>\n",
       "      <td>55.627010</td>\n",
       "    </tr>\n",
       "    <tr>\n",
       "      <th>2</th>\n",
       "      <td>Interfaith Dental Clinic - Murfreesboro</td>\n",
       "      <td>233</td>\n",
       "      <td>195</td>\n",
       "      <td>428</td>\n",
       "      <td>54.439252</td>\n",
       "    </tr>\n",
       "    <tr>\n",
       "      <th>3</th>\n",
       "      <td>Healing Hands Health Center - Bristol</td>\n",
       "      <td>188</td>\n",
       "      <td>54</td>\n",
       "      <td>242</td>\n",
       "      <td>77.685950</td>\n",
       "    </tr>\n",
       "    <tr>\n",
       "      <th>4</th>\n",
       "      <td>Friends in Need Health Center - Kingsport</td>\n",
       "      <td>171</td>\n",
       "      <td>36</td>\n",
       "      <td>207</td>\n",
       "      <td>82.608696</td>\n",
       "    </tr>\n",
       "  </tbody>\n",
       "</table>\n",
       "</div>"
      ],
      "text/plain": [
       "                                    location  restored_yes  restored_no  \\\n",
       "0             Church Health Center - Memphis           347          170   \n",
       "1       Interfaith Dental Clinic - Nashville           346          276   \n",
       "2    Interfaith Dental Clinic - Murfreesboro           233          195   \n",
       "3      Healing Hands Health Center - Bristol           188           54   \n",
       "4  Friends in Need Health Center - Kingsport           171           36   \n",
       "\n",
       "   total  percentage  \n",
       "0    517   67.117988  \n",
       "1    622   55.627010  \n",
       "2    428   54.439252  \n",
       "3    242   77.685950  \n",
       "4    207   82.608696  "
      ]
     },
     "execution_count": 91,
     "metadata": {},
     "output_type": "execute_result"
    }
   ],
   "source": [
    "combo"
   ]
  },
  {
   "cell_type": "code",
   "execution_count": 92,
   "metadata": {},
   "outputs": [],
   "source": [
    "import re"
   ]
  },
  {
   "cell_type": "code",
   "execution_count": 93,
   "metadata": {},
   "outputs": [
    {
     "name": "stdout",
     "output_type": "stream",
     "text": [
      "Church Health Center\n",
      "Memphis\n"
     ]
    }
   ],
   "source": [
    "print(re.sub(' - ', '\\n', 'Church Health Center - Memphis'))"
   ]
  },
  {
   "cell_type": "code",
   "execution_count": 94,
   "metadata": {},
   "outputs": [],
   "source": [
    "list = []\n",
    "for index, row in combo.iterrows():\n",
    "    list.append(re.sub(' - ', '\\n', row['location']))"
   ]
  },
  {
   "cell_type": "code",
   "execution_count": 95,
   "metadata": {},
   "outputs": [
    {
     "data": {
      "text/plain": [
       "['Church Health Center\\nMemphis',\n",
       " 'Interfaith Dental Clinic\\nNashville',\n",
       " 'Interfaith Dental Clinic\\nMurfreesboro',\n",
       " 'Healing Hands Health Center\\nBristol',\n",
       " 'Friends in Need Health Center\\nKingsport']"
      ]
     },
     "execution_count": 95,
     "metadata": {},
     "output_type": "execute_result"
    }
   ],
   "source": [
    "list"
   ]
  },
  {
   "cell_type": "code",
   "execution_count": 96,
   "metadata": {},
   "outputs": [],
   "source": [
    "combo['new'] = list"
   ]
  },
  {
   "cell_type": "code",
   "execution_count": 97,
   "metadata": {},
   "outputs": [
    {
     "data": {
      "text/html": [
       "<div>\n",
       "<style scoped>\n",
       "    .dataframe tbody tr th:only-of-type {\n",
       "        vertical-align: middle;\n",
       "    }\n",
       "\n",
       "    .dataframe tbody tr th {\n",
       "        vertical-align: top;\n",
       "    }\n",
       "\n",
       "    .dataframe thead th {\n",
       "        text-align: right;\n",
       "    }\n",
       "</style>\n",
       "<table border=\"1\" class=\"dataframe\">\n",
       "  <thead>\n",
       "    <tr style=\"text-align: right;\">\n",
       "      <th></th>\n",
       "      <th>location</th>\n",
       "      <th>restored_yes</th>\n",
       "      <th>restored_no</th>\n",
       "      <th>total</th>\n",
       "      <th>percentage</th>\n",
       "      <th>new</th>\n",
       "    </tr>\n",
       "  </thead>\n",
       "  <tbody>\n",
       "    <tr>\n",
       "      <th>0</th>\n",
       "      <td>Church Health Center - Memphis</td>\n",
       "      <td>347</td>\n",
       "      <td>170</td>\n",
       "      <td>517</td>\n",
       "      <td>67.117988</td>\n",
       "      <td>Church Health Center\\nMemphis</td>\n",
       "    </tr>\n",
       "    <tr>\n",
       "      <th>1</th>\n",
       "      <td>Interfaith Dental Clinic - Nashville</td>\n",
       "      <td>346</td>\n",
       "      <td>276</td>\n",
       "      <td>622</td>\n",
       "      <td>55.627010</td>\n",
       "      <td>Interfaith Dental Clinic\\nNashville</td>\n",
       "    </tr>\n",
       "    <tr>\n",
       "      <th>2</th>\n",
       "      <td>Interfaith Dental Clinic - Murfreesboro</td>\n",
       "      <td>233</td>\n",
       "      <td>195</td>\n",
       "      <td>428</td>\n",
       "      <td>54.439252</td>\n",
       "      <td>Interfaith Dental Clinic\\nMurfreesboro</td>\n",
       "    </tr>\n",
       "    <tr>\n",
       "      <th>3</th>\n",
       "      <td>Healing Hands Health Center - Bristol</td>\n",
       "      <td>188</td>\n",
       "      <td>54</td>\n",
       "      <td>242</td>\n",
       "      <td>77.685950</td>\n",
       "      <td>Healing Hands Health Center\\nBristol</td>\n",
       "    </tr>\n",
       "    <tr>\n",
       "      <th>4</th>\n",
       "      <td>Friends in Need Health Center - Kingsport</td>\n",
       "      <td>171</td>\n",
       "      <td>36</td>\n",
       "      <td>207</td>\n",
       "      <td>82.608696</td>\n",
       "      <td>Friends in Need Health Center\\nKingsport</td>\n",
       "    </tr>\n",
       "  </tbody>\n",
       "</table>\n",
       "</div>"
      ],
      "text/plain": [
       "                                    location  restored_yes  restored_no  \\\n",
       "0             Church Health Center - Memphis           347          170   \n",
       "1       Interfaith Dental Clinic - Nashville           346          276   \n",
       "2    Interfaith Dental Clinic - Murfreesboro           233          195   \n",
       "3      Healing Hands Health Center - Bristol           188           54   \n",
       "4  Friends in Need Health Center - Kingsport           171           36   \n",
       "\n",
       "   total  percentage                                       new  \n",
       "0    517   67.117988             Church Health Center\\nMemphis  \n",
       "1    622   55.627010       Interfaith Dental Clinic\\nNashville  \n",
       "2    428   54.439252    Interfaith Dental Clinic\\nMurfreesboro  \n",
       "3    242   77.685950      Healing Hands Health Center\\nBristol  \n",
       "4    207   82.608696  Friends in Need Health Center\\nKingsport  "
      ]
     },
     "execution_count": 97,
     "metadata": {},
     "output_type": "execute_result"
    }
   ],
   "source": [
    "combo"
   ]
  },
  {
   "cell_type": "code",
   "execution_count": 100,
   "metadata": {},
   "outputs": [
    {
     "ename": "ConversionError",
     "evalue": "Failed to convert value(s) to axis units: 0               Church Health Center - Memphis\n1         Interfaith Dental Clinic - Nashville\n2      Interfaith Dental Clinic - Murfreesboro\n3        Healing Hands Health Center - Bristol\n4    Friends in Need Health Center - Kingsport\nName: location, dtype: object",
     "output_type": "error",
     "traceback": [
      "\u001b[1;31m---------------------------------------------------------------------------\u001b[0m",
      "\u001b[1;31mUFuncTypeError\u001b[0m                            Traceback (most recent call last)",
      "\u001b[1;32m~\\anaconda3\\lib\\site-packages\\matplotlib\\axes\\_axes.py\u001b[0m in \u001b[0;36m_convert_dx\u001b[1;34m(dx, x0, xconv, convert)\u001b[0m\n\u001b[0;32m   2155\u001b[0m                 \u001b[0mdelist\u001b[0m \u001b[1;33m=\u001b[0m \u001b[1;32mTrue\u001b[0m\u001b[1;33m\u001b[0m\u001b[1;33m\u001b[0m\u001b[0m\n\u001b[1;32m-> 2156\u001b[1;33m             \u001b[0mdx\u001b[0m \u001b[1;33m=\u001b[0m \u001b[1;33m[\u001b[0m\u001b[0mconvert\u001b[0m\u001b[1;33m(\u001b[0m\u001b[0mx0\u001b[0m \u001b[1;33m+\u001b[0m \u001b[0mddx\u001b[0m\u001b[1;33m)\u001b[0m \u001b[1;33m-\u001b[0m \u001b[0mx\u001b[0m \u001b[1;32mfor\u001b[0m \u001b[0mddx\u001b[0m \u001b[1;32min\u001b[0m \u001b[0mdx\u001b[0m\u001b[1;33m]\u001b[0m\u001b[1;33m\u001b[0m\u001b[1;33m\u001b[0m\u001b[0m\n\u001b[0m\u001b[0;32m   2157\u001b[0m             \u001b[1;32mif\u001b[0m \u001b[0mdelist\u001b[0m\u001b[1;33m:\u001b[0m\u001b[1;33m\u001b[0m\u001b[1;33m\u001b[0m\u001b[0m\n",
      "\u001b[1;32m~\\anaconda3\\lib\\site-packages\\matplotlib\\axes\\_axes.py\u001b[0m in \u001b[0;36m<listcomp>\u001b[1;34m(.0)\u001b[0m\n\u001b[0;32m   2155\u001b[0m                 \u001b[0mdelist\u001b[0m \u001b[1;33m=\u001b[0m \u001b[1;32mTrue\u001b[0m\u001b[1;33m\u001b[0m\u001b[1;33m\u001b[0m\u001b[0m\n\u001b[1;32m-> 2156\u001b[1;33m             \u001b[0mdx\u001b[0m \u001b[1;33m=\u001b[0m \u001b[1;33m[\u001b[0m\u001b[0mconvert\u001b[0m\u001b[1;33m(\u001b[0m\u001b[0mx0\u001b[0m \u001b[1;33m+\u001b[0m \u001b[0mddx\u001b[0m\u001b[1;33m)\u001b[0m \u001b[1;33m-\u001b[0m \u001b[0mx\u001b[0m \u001b[1;32mfor\u001b[0m \u001b[0mddx\u001b[0m \u001b[1;32min\u001b[0m \u001b[0mdx\u001b[0m\u001b[1;33m]\u001b[0m\u001b[1;33m\u001b[0m\u001b[1;33m\u001b[0m\u001b[0m\n\u001b[0m\u001b[0;32m   2157\u001b[0m             \u001b[1;32mif\u001b[0m \u001b[0mdelist\u001b[0m\u001b[1;33m:\u001b[0m\u001b[1;33m\u001b[0m\u001b[1;33m\u001b[0m\u001b[0m\n",
      "\u001b[1;31mUFuncTypeError\u001b[0m: ufunc 'add' did not contain a loop with signature matching types (dtype('<U30'), dtype('<U30')) -> dtype('<U30')",
      "\nDuring handling of the above exception, another exception occurred:\n",
      "\u001b[1;31mValueError\u001b[0m                                Traceback (most recent call last)",
      "\u001b[1;32m~\\anaconda3\\lib\\site-packages\\matplotlib\\axis.py\u001b[0m in \u001b[0;36mconvert_units\u001b[1;34m(self, x)\u001b[0m\n\u001b[0;32m   1572\u001b[0m         \u001b[1;32mtry\u001b[0m\u001b[1;33m:\u001b[0m\u001b[1;33m\u001b[0m\u001b[1;33m\u001b[0m\u001b[0m\n\u001b[1;32m-> 1573\u001b[1;33m             \u001b[0mret\u001b[0m \u001b[1;33m=\u001b[0m \u001b[0mself\u001b[0m\u001b[1;33m.\u001b[0m\u001b[0mconverter\u001b[0m\u001b[1;33m.\u001b[0m\u001b[0mconvert\u001b[0m\u001b[1;33m(\u001b[0m\u001b[0mx\u001b[0m\u001b[1;33m,\u001b[0m \u001b[0mself\u001b[0m\u001b[1;33m.\u001b[0m\u001b[0munits\u001b[0m\u001b[1;33m,\u001b[0m \u001b[0mself\u001b[0m\u001b[1;33m)\u001b[0m\u001b[1;33m\u001b[0m\u001b[1;33m\u001b[0m\u001b[0m\n\u001b[0m\u001b[0;32m   1574\u001b[0m         \u001b[1;32mexcept\u001b[0m \u001b[0mException\u001b[0m \u001b[1;32mas\u001b[0m \u001b[0me\u001b[0m\u001b[1;33m:\u001b[0m\u001b[1;33m\u001b[0m\u001b[1;33m\u001b[0m\u001b[0m\n",
      "\u001b[1;32m~\\anaconda3\\lib\\site-packages\\matplotlib\\category.py\u001b[0m in \u001b[0;36mconvert\u001b[1;34m(value, unit, axis)\u001b[0m\n\u001b[0;32m     48\u001b[0m         \u001b[1;32mif\u001b[0m \u001b[0munit\u001b[0m \u001b[1;32mis\u001b[0m \u001b[1;32mNone\u001b[0m\u001b[1;33m:\u001b[0m\u001b[1;33m\u001b[0m\u001b[1;33m\u001b[0m\u001b[0m\n\u001b[1;32m---> 49\u001b[1;33m             raise ValueError(\n\u001b[0m\u001b[0;32m     50\u001b[0m                 \u001b[1;34m'Missing category information for StrCategoryConverter; '\u001b[0m\u001b[1;33m\u001b[0m\u001b[1;33m\u001b[0m\u001b[0m\n",
      "\u001b[1;31mValueError\u001b[0m: Missing category information for StrCategoryConverter; this might be caused by unintendedly mixing categorical and numeric data",
      "\nThe above exception was the direct cause of the following exception:\n",
      "\u001b[1;31mConversionError\u001b[0m                           Traceback (most recent call last)",
      "\u001b[1;32m<ipython-input-100-16edb5f24bbd>\u001b[0m in \u001b[0;36m<module>\u001b[1;34m\u001b[0m\n\u001b[0;32m      2\u001b[0m \u001b[0mwidth\u001b[0m \u001b[1;33m=\u001b[0m \u001b[1;36m0.6\u001b[0m\u001b[1;33m\u001b[0m\u001b[1;33m\u001b[0m\u001b[0m\n\u001b[0;32m      3\u001b[0m \u001b[0mx\u001b[0m \u001b[1;33m=\u001b[0m \u001b[0mnp\u001b[0m\u001b[1;33m.\u001b[0m\u001b[0marange\u001b[0m\u001b[1;33m(\u001b[0m\u001b[0mlen\u001b[0m\u001b[1;33m(\u001b[0m\u001b[0mcombo\u001b[0m\u001b[1;33m.\u001b[0m\u001b[0mlocation\u001b[0m\u001b[1;33m.\u001b[0m\u001b[0munique\u001b[0m\u001b[1;33m(\u001b[0m\u001b[1;33m)\u001b[0m\u001b[1;33m)\u001b[0m\u001b[1;33m)\u001b[0m\u001b[1;33m\u001b[0m\u001b[1;33m\u001b[0m\u001b[0m\n\u001b[1;32m----> 4\u001b[1;33m \u001b[0mplt\u001b[0m\u001b[1;33m.\u001b[0m\u001b[0mbar\u001b[0m\u001b[1;33m(\u001b[0m\u001b[0mx\u001b[0m\u001b[1;33m,\u001b[0m \u001b[0mcombo\u001b[0m\u001b[1;33m[\u001b[0m\u001b[1;34m'restored_yes'\u001b[0m\u001b[1;33m]\u001b[0m\u001b[1;33m,\u001b[0m \u001b[0mcombo\u001b[0m\u001b[1;33m[\u001b[0m\u001b[1;34m'location'\u001b[0m\u001b[1;33m]\u001b[0m\u001b[1;33m,\u001b[0m \u001b[0mwidth\u001b[0m\u001b[1;33m,\u001b[0m \u001b[0mlabel\u001b[0m \u001b[1;33m=\u001b[0m \u001b[1;34m'restored'\u001b[0m\u001b[1;33m,\u001b[0m \u001b[0mcolor\u001b[0m\u001b[1;33m=\u001b[0m\u001b[1;34m'#ffa500'\u001b[0m\u001b[1;33m,\u001b[0m \u001b[0malpha\u001b[0m\u001b[1;33m=\u001b[0m\u001b[1;36m0.85\u001b[0m\u001b[1;33m)\u001b[0m\u001b[1;33m\u001b[0m\u001b[1;33m\u001b[0m\u001b[0m\n\u001b[0m\u001b[0;32m      5\u001b[0m \u001b[0mplt\u001b[0m\u001b[1;33m.\u001b[0m\u001b[0mbar\u001b[0m\u001b[1;33m(\u001b[0m\u001b[0mx\u001b[0m \u001b[1;33m+\u001b[0m \u001b[0mwidth\u001b[0m\u001b[1;33m,\u001b[0m \u001b[0mcombo\u001b[0m\u001b[1;33m[\u001b[0m\u001b[1;34m'restored_no'\u001b[0m\u001b[1;33m]\u001b[0m\u001b[1;33m,\u001b[0m \u001b[0mcombo\u001b[0m\u001b[1;33m[\u001b[0m\u001b[1;34m'location'\u001b[0m\u001b[1;33m]\u001b[0m\u001b[1;33m,\u001b[0m \u001b[0mwidth\u001b[0m\u001b[1;33m,\u001b[0m \u001b[0mlabel\u001b[0m \u001b[1;33m=\u001b[0m \u001b[1;34m'not restored'\u001b[0m\u001b[1;33m,\u001b[0m \u001b[0mcolor\u001b[0m \u001b[1;33m=\u001b[0m \u001b[1;34m'#e60000'\u001b[0m\u001b[1;33m,\u001b[0m \u001b[0malpha\u001b[0m \u001b[1;33m=\u001b[0m \u001b[1;36m0.85\u001b[0m\u001b[1;33m)\u001b[0m\u001b[1;33m\u001b[0m\u001b[1;33m\u001b[0m\u001b[0m\n\u001b[0;32m      6\u001b[0m \u001b[0mplt\u001b[0m\u001b[1;33m.\u001b[0m\u001b[0mxticks\u001b[0m\u001b[1;33m(\u001b[0m\u001b[0mfontsize\u001b[0m \u001b[1;33m=\u001b[0m \u001b[1;36m13\u001b[0m\u001b[1;33m)\u001b[0m\u001b[1;33m\u001b[0m\u001b[1;33m\u001b[0m\u001b[0m\n",
      "\u001b[1;32m~\\anaconda3\\lib\\site-packages\\matplotlib\\pyplot.py\u001b[0m in \u001b[0;36mbar\u001b[1;34m(x, height, width, bottom, align, data, **kwargs)\u001b[0m\n\u001b[0;32m   2405\u001b[0m         \u001b[0mx\u001b[0m\u001b[1;33m,\u001b[0m \u001b[0mheight\u001b[0m\u001b[1;33m,\u001b[0m \u001b[0mwidth\u001b[0m\u001b[1;33m=\u001b[0m\u001b[1;36m0.8\u001b[0m\u001b[1;33m,\u001b[0m \u001b[0mbottom\u001b[0m\u001b[1;33m=\u001b[0m\u001b[1;32mNone\u001b[0m\u001b[1;33m,\u001b[0m \u001b[1;33m*\u001b[0m\u001b[1;33m,\u001b[0m \u001b[0malign\u001b[0m\u001b[1;33m=\u001b[0m\u001b[1;34m'center'\u001b[0m\u001b[1;33m,\u001b[0m\u001b[1;33m\u001b[0m\u001b[1;33m\u001b[0m\u001b[0m\n\u001b[0;32m   2406\u001b[0m         data=None, **kwargs):\n\u001b[1;32m-> 2407\u001b[1;33m     return gca().bar(\n\u001b[0m\u001b[0;32m   2408\u001b[0m         \u001b[0mx\u001b[0m\u001b[1;33m,\u001b[0m \u001b[0mheight\u001b[0m\u001b[1;33m,\u001b[0m \u001b[0mwidth\u001b[0m\u001b[1;33m=\u001b[0m\u001b[0mwidth\u001b[0m\u001b[1;33m,\u001b[0m \u001b[0mbottom\u001b[0m\u001b[1;33m=\u001b[0m\u001b[0mbottom\u001b[0m\u001b[1;33m,\u001b[0m \u001b[0malign\u001b[0m\u001b[1;33m=\u001b[0m\u001b[0malign\u001b[0m\u001b[1;33m,\u001b[0m\u001b[1;33m\u001b[0m\u001b[1;33m\u001b[0m\u001b[0m\n\u001b[0;32m   2409\u001b[0m         **({\"data\": data} if data is not None else {}), **kwargs)\n",
      "\u001b[1;32m~\\anaconda3\\lib\\site-packages\\matplotlib\\__init__.py\u001b[0m in \u001b[0;36minner\u001b[1;34m(ax, data, *args, **kwargs)\u001b[0m\n\u001b[0;32m   1563\u001b[0m     \u001b[1;32mdef\u001b[0m \u001b[0minner\u001b[0m\u001b[1;33m(\u001b[0m\u001b[0max\u001b[0m\u001b[1;33m,\u001b[0m \u001b[1;33m*\u001b[0m\u001b[0margs\u001b[0m\u001b[1;33m,\u001b[0m \u001b[0mdata\u001b[0m\u001b[1;33m=\u001b[0m\u001b[1;32mNone\u001b[0m\u001b[1;33m,\u001b[0m \u001b[1;33m**\u001b[0m\u001b[0mkwargs\u001b[0m\u001b[1;33m)\u001b[0m\u001b[1;33m:\u001b[0m\u001b[1;33m\u001b[0m\u001b[1;33m\u001b[0m\u001b[0m\n\u001b[0;32m   1564\u001b[0m         \u001b[1;32mif\u001b[0m \u001b[0mdata\u001b[0m \u001b[1;32mis\u001b[0m \u001b[1;32mNone\u001b[0m\u001b[1;33m:\u001b[0m\u001b[1;33m\u001b[0m\u001b[1;33m\u001b[0m\u001b[0m\n\u001b[1;32m-> 1565\u001b[1;33m             \u001b[1;32mreturn\u001b[0m \u001b[0mfunc\u001b[0m\u001b[1;33m(\u001b[0m\u001b[0max\u001b[0m\u001b[1;33m,\u001b[0m \u001b[1;33m*\u001b[0m\u001b[0mmap\u001b[0m\u001b[1;33m(\u001b[0m\u001b[0msanitize_sequence\u001b[0m\u001b[1;33m,\u001b[0m \u001b[0margs\u001b[0m\u001b[1;33m)\u001b[0m\u001b[1;33m,\u001b[0m \u001b[1;33m**\u001b[0m\u001b[0mkwargs\u001b[0m\u001b[1;33m)\u001b[0m\u001b[1;33m\u001b[0m\u001b[1;33m\u001b[0m\u001b[0m\n\u001b[0m\u001b[0;32m   1566\u001b[0m \u001b[1;33m\u001b[0m\u001b[0m\n\u001b[0;32m   1567\u001b[0m         \u001b[0mbound\u001b[0m \u001b[1;33m=\u001b[0m \u001b[0mnew_sig\u001b[0m\u001b[1;33m.\u001b[0m\u001b[0mbind\u001b[0m\u001b[1;33m(\u001b[0m\u001b[0max\u001b[0m\u001b[1;33m,\u001b[0m \u001b[1;33m*\u001b[0m\u001b[0margs\u001b[0m\u001b[1;33m,\u001b[0m \u001b[1;33m**\u001b[0m\u001b[0mkwargs\u001b[0m\u001b[1;33m)\u001b[0m\u001b[1;33m\u001b[0m\u001b[1;33m\u001b[0m\u001b[0m\n",
      "\u001b[1;32m~\\anaconda3\\lib\\site-packages\\matplotlib\\axes\\_axes.py\u001b[0m in \u001b[0;36mbar\u001b[1;34m(self, x, height, width, bottom, align, **kwargs)\u001b[0m\n\u001b[0;32m   2328\u001b[0m             \u001b[0mx0\u001b[0m \u001b[1;33m=\u001b[0m \u001b[0mx\u001b[0m\u001b[1;33m\u001b[0m\u001b[1;33m\u001b[0m\u001b[0m\n\u001b[0;32m   2329\u001b[0m             \u001b[0mx\u001b[0m \u001b[1;33m=\u001b[0m \u001b[0mnp\u001b[0m\u001b[1;33m.\u001b[0m\u001b[0masarray\u001b[0m\u001b[1;33m(\u001b[0m\u001b[0mself\u001b[0m\u001b[1;33m.\u001b[0m\u001b[0mconvert_xunits\u001b[0m\u001b[1;33m(\u001b[0m\u001b[0mx\u001b[0m\u001b[1;33m)\u001b[0m\u001b[1;33m)\u001b[0m\u001b[1;33m\u001b[0m\u001b[1;33m\u001b[0m\u001b[0m\n\u001b[1;32m-> 2330\u001b[1;33m             \u001b[0mwidth\u001b[0m \u001b[1;33m=\u001b[0m \u001b[0mself\u001b[0m\u001b[1;33m.\u001b[0m\u001b[0m_convert_dx\u001b[0m\u001b[1;33m(\u001b[0m\u001b[0mwidth\u001b[0m\u001b[1;33m,\u001b[0m \u001b[0mx0\u001b[0m\u001b[1;33m,\u001b[0m \u001b[0mx\u001b[0m\u001b[1;33m,\u001b[0m \u001b[0mself\u001b[0m\u001b[1;33m.\u001b[0m\u001b[0mconvert_xunits\u001b[0m\u001b[1;33m)\u001b[0m\u001b[1;33m\u001b[0m\u001b[1;33m\u001b[0m\u001b[0m\n\u001b[0m\u001b[0;32m   2331\u001b[0m             \u001b[1;32mif\u001b[0m \u001b[0mxerr\u001b[0m \u001b[1;32mis\u001b[0m \u001b[1;32mnot\u001b[0m \u001b[1;32mNone\u001b[0m\u001b[1;33m:\u001b[0m\u001b[1;33m\u001b[0m\u001b[1;33m\u001b[0m\u001b[0m\n\u001b[0;32m   2332\u001b[0m                 \u001b[0mxerr\u001b[0m \u001b[1;33m=\u001b[0m \u001b[0mself\u001b[0m\u001b[1;33m.\u001b[0m\u001b[0m_convert_dx\u001b[0m\u001b[1;33m(\u001b[0m\u001b[0mxerr\u001b[0m\u001b[1;33m,\u001b[0m \u001b[0mx0\u001b[0m\u001b[1;33m,\u001b[0m \u001b[0mx\u001b[0m\u001b[1;33m,\u001b[0m \u001b[0mself\u001b[0m\u001b[1;33m.\u001b[0m\u001b[0mconvert_xunits\u001b[0m\u001b[1;33m)\u001b[0m\u001b[1;33m\u001b[0m\u001b[1;33m\u001b[0m\u001b[0m\n",
      "\u001b[1;32m~\\anaconda3\\lib\\site-packages\\matplotlib\\axes\\_axes.py\u001b[0m in \u001b[0;36m_convert_dx\u001b[1;34m(dx, x0, xconv, convert)\u001b[0m\n\u001b[0;32m   2160\u001b[0m             \u001b[1;31m# if the above fails (for any reason) just fallback to what\u001b[0m\u001b[1;33m\u001b[0m\u001b[1;33m\u001b[0m\u001b[1;33m\u001b[0m\u001b[0m\n\u001b[0;32m   2161\u001b[0m             \u001b[1;31m# we do by default and convert dx by itself.\u001b[0m\u001b[1;33m\u001b[0m\u001b[1;33m\u001b[0m\u001b[1;33m\u001b[0m\u001b[0m\n\u001b[1;32m-> 2162\u001b[1;33m             \u001b[0mdx\u001b[0m \u001b[1;33m=\u001b[0m \u001b[0mconvert\u001b[0m\u001b[1;33m(\u001b[0m\u001b[0mdx\u001b[0m\u001b[1;33m)\u001b[0m\u001b[1;33m\u001b[0m\u001b[1;33m\u001b[0m\u001b[0m\n\u001b[0m\u001b[0;32m   2163\u001b[0m         \u001b[1;32mreturn\u001b[0m \u001b[0mdx\u001b[0m\u001b[1;33m\u001b[0m\u001b[1;33m\u001b[0m\u001b[0m\n\u001b[0;32m   2164\u001b[0m \u001b[1;33m\u001b[0m\u001b[0m\n",
      "\u001b[1;32m~\\anaconda3\\lib\\site-packages\\matplotlib\\artist.py\u001b[0m in \u001b[0;36mconvert_xunits\u001b[1;34m(self, x)\u001b[0m\n\u001b[0;32m    176\u001b[0m         \u001b[1;32mif\u001b[0m \u001b[0max\u001b[0m \u001b[1;32mis\u001b[0m \u001b[1;32mNone\u001b[0m \u001b[1;32mor\u001b[0m \u001b[0max\u001b[0m\u001b[1;33m.\u001b[0m\u001b[0mxaxis\u001b[0m \u001b[1;32mis\u001b[0m \u001b[1;32mNone\u001b[0m\u001b[1;33m:\u001b[0m\u001b[1;33m\u001b[0m\u001b[1;33m\u001b[0m\u001b[0m\n\u001b[0;32m    177\u001b[0m             \u001b[1;32mreturn\u001b[0m \u001b[0mx\u001b[0m\u001b[1;33m\u001b[0m\u001b[1;33m\u001b[0m\u001b[0m\n\u001b[1;32m--> 178\u001b[1;33m         \u001b[1;32mreturn\u001b[0m \u001b[0max\u001b[0m\u001b[1;33m.\u001b[0m\u001b[0mxaxis\u001b[0m\u001b[1;33m.\u001b[0m\u001b[0mconvert_units\u001b[0m\u001b[1;33m(\u001b[0m\u001b[0mx\u001b[0m\u001b[1;33m)\u001b[0m\u001b[1;33m\u001b[0m\u001b[1;33m\u001b[0m\u001b[0m\n\u001b[0m\u001b[0;32m    179\u001b[0m \u001b[1;33m\u001b[0m\u001b[0m\n\u001b[0;32m    180\u001b[0m     \u001b[1;32mdef\u001b[0m \u001b[0mconvert_yunits\u001b[0m\u001b[1;33m(\u001b[0m\u001b[0mself\u001b[0m\u001b[1;33m,\u001b[0m \u001b[0my\u001b[0m\u001b[1;33m)\u001b[0m\u001b[1;33m:\u001b[0m\u001b[1;33m\u001b[0m\u001b[1;33m\u001b[0m\u001b[0m\n",
      "\u001b[1;32m~\\anaconda3\\lib\\site-packages\\matplotlib\\axis.py\u001b[0m in \u001b[0;36mconvert_units\u001b[1;34m(self, x)\u001b[0m\n\u001b[0;32m   1573\u001b[0m             \u001b[0mret\u001b[0m \u001b[1;33m=\u001b[0m \u001b[0mself\u001b[0m\u001b[1;33m.\u001b[0m\u001b[0mconverter\u001b[0m\u001b[1;33m.\u001b[0m\u001b[0mconvert\u001b[0m\u001b[1;33m(\u001b[0m\u001b[0mx\u001b[0m\u001b[1;33m,\u001b[0m \u001b[0mself\u001b[0m\u001b[1;33m.\u001b[0m\u001b[0munits\u001b[0m\u001b[1;33m,\u001b[0m \u001b[0mself\u001b[0m\u001b[1;33m)\u001b[0m\u001b[1;33m\u001b[0m\u001b[1;33m\u001b[0m\u001b[0m\n\u001b[0;32m   1574\u001b[0m         \u001b[1;32mexcept\u001b[0m \u001b[0mException\u001b[0m \u001b[1;32mas\u001b[0m \u001b[0me\u001b[0m\u001b[1;33m:\u001b[0m\u001b[1;33m\u001b[0m\u001b[1;33m\u001b[0m\u001b[0m\n\u001b[1;32m-> 1575\u001b[1;33m             raise munits.ConversionError('Failed to convert value(s) to axis '\n\u001b[0m\u001b[0;32m   1576\u001b[0m                                          f'units: {x!r}') from e\n\u001b[0;32m   1577\u001b[0m         \u001b[1;32mreturn\u001b[0m \u001b[0mret\u001b[0m\u001b[1;33m\u001b[0m\u001b[1;33m\u001b[0m\u001b[0m\n",
      "\u001b[1;31mConversionError\u001b[0m: Failed to convert value(s) to axis units: 0               Church Health Center - Memphis\n1         Interfaith Dental Clinic - Nashville\n2      Interfaith Dental Clinic - Murfreesboro\n3        Healing Hands Health Center - Bristol\n4    Friends in Need Health Center - Kingsport\nName: location, dtype: object"
     ]
    },
    {
     "data": {
      "image/png": "[encoded data removed]",
      "text/plain": [
       "<Figure size 1296x432 with 1 Axes>"
      ]
     },
     "metadata": {},
     "output_type": "display_data"
    }
   ],
   "source": [
    "f, ax = plt.subplots(figsize=(18,6))\n",
    "width = 0.6\n",
    "x = np.arange(len(combo.location.unique()))\n",
    "plt.bar(x, combo['restored_yes'], combo['location'], width, label = 'restored', color='#ffa500', alpha=0.85)\n",
    "plt.bar(x + width, combo['restored_no'], combo['location'], width, label = 'not restored', color = '#e60000', alpha = 0.85)\n",
    "plt.xticks(fontsize = 13)\n",
    "plt.xlabel(\"Location\", fontsize=14, labelpad=15)\n",
    "#plt.yticks(np.arange(0,550, step=50), fontsize =13)\n",
    "plt.ylabel(\"Patients\", fontsize=14, labelpad=15)\n",
    "ax.legend(loc = 'best', fontsize = 13)\n",
    "plt.show();"
   ]
  },
  {
   "cell_type": "code",
   "execution_count": 99,
   "metadata": {},
   "outputs": [
    {
     "data": {
      "image/png": "[encoded data removed]",
      "text/plain": [
       "<Figure size 720x720 with 1 Axes>"
      ]
     },
     "metadata": {},
     "output_type": "display_data"
    }
   ],
   "source": [
    "# Use Seaborn's context settings to make fonts larger.\n",
    "sns.set_context('talk')\n",
    "\n",
    "# Create a grouped bar chart, with job as the x-axis\n",
    "# and gender as the variable we're grouping on so there\n",
    "# are two bars per job.\n",
    "fig, ax = plt.subplots(figsize=((10, 10)))\n",
    "\n",
    "# Our x-axis. We basically just want a list\n",
    "# of numbers from zero with a value for each\n",
    "# of our jobs.\n",
    "x = np.arange(len(combo['new'].unique()))\n",
    "\n",
    "# Define bar width. We need this to offset the second bar.\n",
    "bar_width = 0.4\n",
    "\n",
    "b1 = ax.bar(x, combo['restored_yes'],\n",
    "            width=bar_width, label='restored')\n",
    "# Same thing, but offset the x.\n",
    "b2 = ax.bar(x + bar_width, combo['restored_no'],\n",
    "            width=bar_width, label='not restored')\n",
    "\n",
    "# Fix the x-axes.\n",
    "ax.set_xticks(x + bar_width / 2)\n",
    "ax.set_xticklabels(combo['new'].unique())\n",
    "plt.xticks(rotation=90, fontsize = 12)\n",
    "\n",
    "# Add legend.\n",
    "ax.legend()\n",
    "\n",
    "# Axis styling.\n",
    "ax.spines['top'].set_visible(False)\n",
    "ax.spines['right'].set_visible(False)\n",
    "ax.spines['left'].set_visible(False)\n",
    "ax.spines['bottom'].set_color('#DDDDDD')\n",
    "ax.tick_params(bottom=False, left=False)\n",
    "ax.set_axisbelow(True)\n",
    "ax.yaxis.grid(True, color='#EEEEEE')\n",
    "ax.xaxis.grid(False)\n",
    "\n",
    "# Add axis and chart labels.\n",
    "#ax.set_xlabel('Location', labelpad=15, fontsize=12)\n",
    "ax.set_ylabel('Patients', labelpad=15, fontsize=14)\n",
    "ax.set_title('Clinic Locations with the Most Restored Patients', pad=15)\n",
    "\n",
    "fig.tight_layout()"
   ]
  },
  {
   "cell_type": "code",
   "execution_count": 103,
   "metadata": {},
   "outputs": [],
   "source": [
    "#smile_on[smile_on['SMILE ON 60+ Oral Care Encounter - 1351 - Quantity'] == 8]"
   ]
  },
  {
   "cell_type": "code",
   "execution_count": 104,
   "metadata": {},
   "outputs": [
    {
     "data": {
      "text/plain": [
       "1.0    4\n",
       "8.0    1\n",
       "2.0    1\n",
       "4.0    1\n",
       "Name: SMILE ON 60+ Oral Care Encounter - 1351 - Quantity, dtype: int64"
      ]
     },
     "execution_count": 104,
     "metadata": {},
     "output_type": "execute_result"
    }
   ],
   "source": [
    "smile_on['SMILE ON 60+ Oral Care Encounter - 1351 - Quantity'].value_counts()"
   ]
  },
  {
   "cell_type": "code",
   "execution_count": 106,
   "metadata": {
    "scrolled": true
   },
   "outputs": [],
   "source": [
    "#city_info_tn"
   ]
  },
  {
   "cell_type": "code",
   "execution_count": 108,
   "metadata": {},
   "outputs": [],
   "source": [
    "#patients_restored"
   ]
  },
  {
   "cell_type": "code",
   "execution_count": 109,
   "metadata": {},
   "outputs": [],
   "source": [
    "patients_city = patients.groupby('CityName').size()"
   ]
  },
  {
   "cell_type": "code",
   "execution_count": 110,
   "metadata": {},
   "outputs": [
    {
     "data": {
      "text/plain": [
       "CityName\n",
       "1450830        1\n",
       "Adamsville     1\n",
       "Afton          3\n",
       "Alamo          1\n",
       "Alcoa          8\n",
       "              ..\n",
       "Williston      1\n",
       "Winchester    16\n",
       "Woodbine       7\n",
       "Woodbury      40\n",
       "Woodlawn       7\n",
       "Length: 387, dtype: int64"
      ]
     },
     "execution_count": 110,
     "metadata": {},
     "output_type": "execute_result"
    }
   ],
   "source": [
    "patients_city"
   ]
  }
 ],
 "metadata": {
  "kernelspec": {
   "display_name": "Python 3",
   "language": "python",
   "name": "python3"
  },
  "language_info": {
   "codemirror_mode": {
    "name": "ipython",
    "version": 3
   },
   "file_extension": ".py",
   "mimetype": "text/x-python",
   "name": "python",
   "nbconvert_exporter": "python",
   "pygments_lexer": "ipython3",
   "version": "3.8.3"
  }
 },
 "nbformat": 4,
 "nbformat_minor": 4
}
